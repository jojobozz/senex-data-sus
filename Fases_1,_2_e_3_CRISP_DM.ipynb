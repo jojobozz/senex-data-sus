{
  "nbformat": 4,
  "nbformat_minor": 0,
  "metadata": {
    "colab": {
      "provenance": [],
      "collapsed_sections": [],
      "authorship_tag": "ABX9TyMV5E1i36xUs6TBVltou3mR",
      "include_colab_link": true
    },
    "kernelspec": {
      "name": "python3",
      "display_name": "Python 3"
    },
    "language_info": {
      "name": "python"
    }
  },
  "cells": [
    {
      "cell_type": "markdown",
      "metadata": {
        "id": "view-in-github",
        "colab_type": "text"
      },
      "source": [
        "<a href=\"https://colab.research.google.com/github/ITA-LOW/senex-data-sus/blob/main/Fases_1%2C_2_e_3_CRISP_DM.ipynb\" target=\"_parent\"><img src=\"https://colab.research.google.com/assets/colab-badge.svg\" alt=\"Open In Colab\"/></a>"
      ]
    },
    {
      "cell_type": "markdown",
      "source": [
        "\n",
        "\n",
        "![senex.PNG](data:image/png;base64,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)\n",
        "\n",
        "# Projeto Senex Health"
      ],
      "metadata": {
        "id": "vkR0z0oqOZs_"
      }
    },
    {
      "cell_type": "markdown",
      "source": [
        "#### O produto oferecido pelo projeto Senex Health é o subsídio para tomada de decisão orientada por dados em questões de saúde pública da população idosa. Para atingir esse objetivo é necessário um conhecimento técnico desses dados e foi escolhido o banco de dados do SUS. Esse banco de dados será tratado a fim de atender a metodologia CRISP-DM que guiará ao produto final.\n",
        "\n",
        "### Ao fim desse estudo premilinar nos dados será possível:\n",
        "\n",
        "\n",
        "1.   Entender e dominar a área de atuação do Senex Health;\n",
        "2.   Entender os dados e tirar insigths iniciais;\n",
        "3.   Preparar os dados para iniciar a mineração.\n",
        "\n",
        "\n",
        "\n",
        "\n",
        "\n"
      ],
      "metadata": {
        "id": "b9FnWEumOmov"
      }
    },
    {
      "cell_type": "markdown",
      "source": [
        "## Aquisição e tratamento dos dados"
      ],
      "metadata": {
        "id": "QC6n1HzOR8i-"
      }
    },
    {
      "cell_type": "markdown",
      "source": [
        "A aquisição do banco de dados foi realizada em colab próprio para esse fim. Como são dados históricos, uma vez baixado esse colab já não era mais necessário ao projeto já que os dados não mudam e o objetivo daquele colab estava muito bem delineado. Por esse motivo não será apresentado aqui os passos para a aquisição."
      ],
      "metadata": {
        "id": "xmHOiimXSlXu"
      }
    },
    {
      "cell_type": "code",
      "execution_count": 1,
      "metadata": {
        "id": "5qxgbYY9wJg5"
      },
      "outputs": [],
      "source": [
        "import pandas as pd"
      ]
    },
    {
      "cell_type": "code",
      "source": [
        "df = pd.read_csv(\"/content/dados_2011_2020.csv\")"
      ],
      "metadata": {
        "id": "CGO76KDVwmpn"
      },
      "execution_count": null,
      "outputs": []
    },
    {
      "cell_type": "code",
      "source": [
        "df.head()"
      ],
      "metadata": {
        "colab": {
          "base_uri": "https://localhost:8080/",
          "height": 317
        },
        "id": "LauY_MH2zcjk",
        "outputId": "b708ea10-24c9-4e56-e575-58d3036604a5"
      },
      "execution_count": 3,
      "outputs": [
        {
          "output_type": "execute_result",
          "data": {
            "text/plain": [
              "   Unnamed: 0 ESTADO   ANO  level_2  CONTADOR  ORIGEM  TIPOBITO   DTOBITO  \\\n",
              "0           0     SC  2010        0         1       1         2   3102010   \n",
              "1           1     SC  2010        1         2       1         2  15022010   \n",
              "2           2     SC  2010        2         3       1         2   8112010   \n",
              "3           3     SC  2010        3         4       1         2   4052010   \n",
              "4           4     SC  2010        4         5       1         2  17052010   \n",
              "\n",
              "   HORAOBITO  NATURAL  ...  ATESTADO  ESCMAEAGR1  ESCFALAGR1  NUDIASOBCO  \\\n",
              "0      300.0      NaN  ...       NaN         NaN         NaN         NaN   \n",
              "1     1350.0      NaN  ...       NaN         NaN         NaN         NaN   \n",
              "2      820.0    800.0  ...       NaN         NaN         NaN         NaN   \n",
              "3     1430.0      NaN  ...       NaN         NaN         NaN         NaN   \n",
              "4      730.0      NaN  ...       NaN         NaN         NaN         NaN   \n",
              "\n",
              "   FONTES  TPRESGINFO  TPNIVELINV  NUDIASINF  FONTESINF  ALTCAUSA  \n",
              "0     NaN         NaN         NaN        NaN        NaN       NaN  \n",
              "1     NaN         NaN         NaN        NaN        NaN       NaN  \n",
              "2     NaN         NaN         NaN        NaN        NaN       NaN  \n",
              "3     NaN         NaN         NaN        NaN        NaN       NaN  \n",
              "4     NaN         NaN         NaN        NaN        NaN       NaN  \n",
              "\n",
              "[5 rows x 100 columns]"
            ],
            "text/html": [
              "\n",
              "  <div id=\"df-8dc3a820-0c66-4be4-a929-6c15e61e3dd8\">\n",
              "    <div class=\"colab-df-container\">\n",
              "      <div>\n",
              "<style scoped>\n",
              "    .dataframe tbody tr th:only-of-type {\n",
              "        vertical-align: middle;\n",
              "    }\n",
              "\n",
              "    .dataframe tbody tr th {\n",
              "        vertical-align: top;\n",
              "    }\n",
              "\n",
              "    .dataframe thead th {\n",
              "        text-align: right;\n",
              "    }\n",
              "</style>\n",
              "<table border=\"1\" class=\"dataframe\">\n",
              "  <thead>\n",
              "    <tr style=\"text-align: right;\">\n",
              "      <th></th>\n",
              "      <th>Unnamed: 0</th>\n",
              "      <th>ESTADO</th>\n",
              "      <th>ANO</th>\n",
              "      <th>level_2</th>\n",
              "      <th>CONTADOR</th>\n",
              "      <th>ORIGEM</th>\n",
              "      <th>TIPOBITO</th>\n",
              "      <th>DTOBITO</th>\n",
              "      <th>HORAOBITO</th>\n",
              "      <th>NATURAL</th>\n",
              "      <th>...</th>\n",
              "      <th>ATESTADO</th>\n",
              "      <th>ESCMAEAGR1</th>\n",
              "      <th>ESCFALAGR1</th>\n",
              "      <th>NUDIASOBCO</th>\n",
              "      <th>FONTES</th>\n",
              "      <th>TPRESGINFO</th>\n",
              "      <th>TPNIVELINV</th>\n",
              "      <th>NUDIASINF</th>\n",
              "      <th>FONTESINF</th>\n",
              "      <th>ALTCAUSA</th>\n",
              "    </tr>\n",
              "  </thead>\n",
              "  <tbody>\n",
              "    <tr>\n",
              "      <th>0</th>\n",
              "      <td>0</td>\n",
              "      <td>SC</td>\n",
              "      <td>2010</td>\n",
              "      <td>0</td>\n",
              "      <td>1</td>\n",
              "      <td>1</td>\n",
              "      <td>2</td>\n",
              "      <td>3102010</td>\n",
              "      <td>300.0</td>\n",
              "      <td>NaN</td>\n",
              "      <td>...</td>\n",
              "      <td>NaN</td>\n",
              "      <td>NaN</td>\n",
              "      <td>NaN</td>\n",
              "      <td>NaN</td>\n",
              "      <td>NaN</td>\n",
              "      <td>NaN</td>\n",
              "      <td>NaN</td>\n",
              "      <td>NaN</td>\n",
              "      <td>NaN</td>\n",
              "      <td>NaN</td>\n",
              "    </tr>\n",
              "    <tr>\n",
              "      <th>1</th>\n",
              "      <td>1</td>\n",
              "      <td>SC</td>\n",
              "      <td>2010</td>\n",
              "      <td>1</td>\n",
              "      <td>2</td>\n",
              "      <td>1</td>\n",
              "      <td>2</td>\n",
              "      <td>15022010</td>\n",
              "      <td>1350.0</td>\n",
              "      <td>NaN</td>\n",
              "      <td>...</td>\n",
              "      <td>NaN</td>\n",
              "      <td>NaN</td>\n",
              "      <td>NaN</td>\n",
              "      <td>NaN</td>\n",
              "      <td>NaN</td>\n",
              "      <td>NaN</td>\n",
              "      <td>NaN</td>\n",
              "      <td>NaN</td>\n",
              "      <td>NaN</td>\n",
              "      <td>NaN</td>\n",
              "    </tr>\n",
              "    <tr>\n",
              "      <th>2</th>\n",
              "      <td>2</td>\n",
              "      <td>SC</td>\n",
              "      <td>2010</td>\n",
              "      <td>2</td>\n",
              "      <td>3</td>\n",
              "      <td>1</td>\n",
              "      <td>2</td>\n",
              "      <td>8112010</td>\n",
              "      <td>820.0</td>\n",
              "      <td>800.0</td>\n",
              "      <td>...</td>\n",
              "      <td>NaN</td>\n",
              "      <td>NaN</td>\n",
              "      <td>NaN</td>\n",
              "      <td>NaN</td>\n",
              "      <td>NaN</td>\n",
              "      <td>NaN</td>\n",
              "      <td>NaN</td>\n",
              "      <td>NaN</td>\n",
              "      <td>NaN</td>\n",
              "      <td>NaN</td>\n",
              "    </tr>\n",
              "    <tr>\n",
              "      <th>3</th>\n",
              "      <td>3</td>\n",
              "      <td>SC</td>\n",
              "      <td>2010</td>\n",
              "      <td>3</td>\n",
              "      <td>4</td>\n",
              "      <td>1</td>\n",
              "      <td>2</td>\n",
              "      <td>4052010</td>\n",
              "      <td>1430.0</td>\n",
              "      <td>NaN</td>\n",
              "      <td>...</td>\n",
              "      <td>NaN</td>\n",
              "      <td>NaN</td>\n",
              "      <td>NaN</td>\n",
              "      <td>NaN</td>\n",
              "      <td>NaN</td>\n",
              "      <td>NaN</td>\n",
              "      <td>NaN</td>\n",
              "      <td>NaN</td>\n",
              "      <td>NaN</td>\n",
              "      <td>NaN</td>\n",
              "    </tr>\n",
              "    <tr>\n",
              "      <th>4</th>\n",
              "      <td>4</td>\n",
              "      <td>SC</td>\n",
              "      <td>2010</td>\n",
              "      <td>4</td>\n",
              "      <td>5</td>\n",
              "      <td>1</td>\n",
              "      <td>2</td>\n",
              "      <td>17052010</td>\n",
              "      <td>730.0</td>\n",
              "      <td>NaN</td>\n",
              "      <td>...</td>\n",
              "      <td>NaN</td>\n",
              "      <td>NaN</td>\n",
              "      <td>NaN</td>\n",
              "      <td>NaN</td>\n",
              "      <td>NaN</td>\n",
              "      <td>NaN</td>\n",
              "      <td>NaN</td>\n",
              "      <td>NaN</td>\n",
              "      <td>NaN</td>\n",
              "      <td>NaN</td>\n",
              "    </tr>\n",
              "  </tbody>\n",
              "</table>\n",
              "<p>5 rows × 100 columns</p>\n",
              "</div>\n",
              "      <button class=\"colab-df-convert\" onclick=\"convertToInteractive('df-8dc3a820-0c66-4be4-a929-6c15e61e3dd8')\"\n",
              "              title=\"Convert this dataframe to an interactive table.\"\n",
              "              style=\"display:none;\">\n",
              "        \n",
              "  <svg xmlns=\"http://www.w3.org/2000/svg\" height=\"24px\"viewBox=\"0 0 24 24\"\n",
              "       width=\"24px\">\n",
              "    <path d=\"M0 0h24v24H0V0z\" fill=\"none\"/>\n",
              "    <path d=\"M18.56 5.44l.94 2.06.94-2.06 2.06-.94-2.06-.94-.94-2.06-.94 2.06-2.06.94zm-11 1L8.5 8.5l.94-2.06 2.06-.94-2.06-.94L8.5 2.5l-.94 2.06-2.06.94zm10 10l.94 2.06.94-2.06 2.06-.94-2.06-.94-.94-2.06-.94 2.06-2.06.94z\"/><path d=\"M17.41 7.96l-1.37-1.37c-.4-.4-.92-.59-1.43-.59-.52 0-1.04.2-1.43.59L10.3 9.45l-7.72 7.72c-.78.78-.78 2.05 0 2.83L4 21.41c.39.39.9.59 1.41.59.51 0 1.02-.2 1.41-.59l7.78-7.78 2.81-2.81c.8-.78.8-2.07 0-2.86zM5.41 20L4 18.59l7.72-7.72 1.47 1.35L5.41 20z\"/>\n",
              "  </svg>\n",
              "      </button>\n",
              "      \n",
              "  <style>\n",
              "    .colab-df-container {\n",
              "      display:flex;\n",
              "      flex-wrap:wrap;\n",
              "      gap: 12px;\n",
              "    }\n",
              "\n",
              "    .colab-df-convert {\n",
              "      background-color: #E8F0FE;\n",
              "      border: none;\n",
              "      border-radius: 50%;\n",
              "      cursor: pointer;\n",
              "      display: none;\n",
              "      fill: #1967D2;\n",
              "      height: 32px;\n",
              "      padding: 0 0 0 0;\n",
              "      width: 32px;\n",
              "    }\n",
              "\n",
              "    .colab-df-convert:hover {\n",
              "      background-color: #E2EBFA;\n",
              "      box-shadow: 0px 1px 2px rgba(60, 64, 67, 0.3), 0px 1px 3px 1px rgba(60, 64, 67, 0.15);\n",
              "      fill: #174EA6;\n",
              "    }\n",
              "\n",
              "    [theme=dark] .colab-df-convert {\n",
              "      background-color: #3B4455;\n",
              "      fill: #D2E3FC;\n",
              "    }\n",
              "\n",
              "    [theme=dark] .colab-df-convert:hover {\n",
              "      background-color: #434B5C;\n",
              "      box-shadow: 0px 1px 3px 1px rgba(0, 0, 0, 0.15);\n",
              "      filter: drop-shadow(0px 1px 2px rgba(0, 0, 0, 0.3));\n",
              "      fill: #FFFFFF;\n",
              "    }\n",
              "  </style>\n",
              "\n",
              "      <script>\n",
              "        const buttonEl =\n",
              "          document.querySelector('#df-8dc3a820-0c66-4be4-a929-6c15e61e3dd8 button.colab-df-convert');\n",
              "        buttonEl.style.display =\n",
              "          google.colab.kernel.accessAllowed ? 'block' : 'none';\n",
              "\n",
              "        async function convertToInteractive(key) {\n",
              "          const element = document.querySelector('#df-8dc3a820-0c66-4be4-a929-6c15e61e3dd8');\n",
              "          const dataTable =\n",
              "            await google.colab.kernel.invokeFunction('convertToInteractive',\n",
              "                                                     [key], {});\n",
              "          if (!dataTable) return;\n",
              "\n",
              "          const docLinkHtml = 'Like what you see? Visit the ' +\n",
              "            '<a target=\"_blank\" href=https://colab.research.google.com/notebooks/data_table.ipynb>data table notebook</a>'\n",
              "            + ' to learn more about interactive tables.';\n",
              "          element.innerHTML = '';\n",
              "          dataTable['output_type'] = 'display_data';\n",
              "          await google.colab.output.renderOutput(dataTable, element);\n",
              "          const docLink = document.createElement('div');\n",
              "          docLink.innerHTML = docLinkHtml;\n",
              "          element.appendChild(docLink);\n",
              "        }\n",
              "      </script>\n",
              "    </div>\n",
              "  </div>\n",
              "  "
            ]
          },
          "metadata": {},
          "execution_count": 3
        }
      ]
    },
    {
      "cell_type": "code",
      "source": [
        "df.info()"
      ],
      "metadata": {
        "colab": {
          "base_uri": "https://localhost:8080/"
        },
        "id": "l4J6lWfdeN_D",
        "outputId": "432c9536-209c-4632-e56d-fa62e044b0e7"
      },
      "execution_count": 7,
      "outputs": [
        {
          "output_type": "stream",
          "name": "stdout",
          "text": [
            "<class 'pandas.core.frame.DataFrame'>\n",
            "RangeIndex: 311386 entries, 0 to 311385\n",
            "Data columns (total 100 columns):\n",
            " #   Column      Non-Null Count   Dtype  \n",
            "---  ------      --------------   -----  \n",
            " 0   Unnamed: 0  311386 non-null  int64  \n",
            " 1   ESTADO      311386 non-null  object \n",
            " 2   ANO         311386 non-null  int64  \n",
            " 3   level_2     311386 non-null  int64  \n",
            " 4   CONTADOR    311386 non-null  int64  \n",
            " 5   ORIGEM      311386 non-null  int64  \n",
            " 6   TIPOBITO    311386 non-null  int64  \n",
            " 7   DTOBITO     311386 non-null  int64  \n",
            " 8   HORAOBITO   301439 non-null  float64\n",
            " 9   NATURAL     210738 non-null  float64\n",
            " 10  DTNASC      311100 non-null  float64\n",
            " 11  IDADE       311100 non-null  float64\n",
            " 12  SEXO        311386 non-null  int64  \n",
            " 13  RACACOR     305487 non-null  float64\n",
            " 14  ESTCIV      295872 non-null  float64\n",
            " 15  ESC         291599 non-null  float64\n",
            " 16  OCUP        268206 non-null  float64\n",
            " 17  CODMUNRES   311386 non-null  int64  \n",
            " 18  CODBAIRES   12880 non-null   float64\n",
            " 19  LOCOCOR     311386 non-null  int64  \n",
            " 20  CODESTAB    222149 non-null  float64\n",
            " 21  CODMUNOCOR  311386 non-null  int64  \n",
            " 22  CODBAIOCOR  3250 non-null    float64\n",
            " 23  IDADEMAE    6837 non-null    float64\n",
            " 24  ESCMAE      7051 non-null    float64\n",
            " 25  OCUPMAE     6329 non-null    float64\n",
            " 26  QTDFILVIVO  6769 non-null    float64\n",
            " 27  QTDFILMORT  6597 non-null    float64\n",
            " 28  GRAVIDEZ    7179 non-null    float64\n",
            " 29  GESTACAO    6862 non-null    float64\n",
            " 30  PARTO       7131 non-null    float64\n",
            " 31  OBITOPARTO  7134 non-null    float64\n",
            " 32  PESO        6981 non-null    float64\n",
            " 33  OBITOGRAV   33202 non-null   float64\n",
            " 34  OBITOPUERP  33134 non-null   float64\n",
            " 35  ASSISTMED   242441 non-null  float64\n",
            " 36  EXAME       57027 non-null   float64\n",
            " 37  CIRURGIA    56773 non-null   float64\n",
            " 38  NECROPSIA   276554 non-null  float64\n",
            " 39  LINHAA      304621 non-null  object \n",
            " 40  LINHAB      234391 non-null  object \n",
            " 41  LINHAC      135794 non-null  object \n",
            " 42  LINHAD      55448 non-null   object \n",
            " 43  LINHAII     98287 non-null   object \n",
            " 44  CAUSABAS    311386 non-null  object \n",
            " 45  DTATESTADO  308911 non-null  float64\n",
            " 46  CIRCOBITO   35570 non-null   float64\n",
            " 47  ACIDTRAB    19072 non-null   float64\n",
            " 48  FONTE       34194 non-null   float64\n",
            " 49  TPPOS       293334 non-null  object \n",
            " 50  DTINVESTIG  45445 non-null   float64\n",
            " 51  CAUSABAS_O  311227 non-null  object \n",
            " 52  DTCADASTRO  310114 non-null  float64\n",
            " 53  ATESTANTE   295310 non-null  float64\n",
            " 54  FONTEINV    46368 non-null   float64\n",
            " 55  DTRECEBIM   311316 non-null  float64\n",
            " 56  UFINFORM    0 non-null       float64\n",
            " 57  CB_PRE      34240 non-null   object \n",
            " 58  MORTEPARTO  6809 non-null    float64\n",
            " 59  DTCADINF    6864 non-null    float64\n",
            " 60  TPOBITOCOR  15795 non-null   float64\n",
            " 61  DTCADINV    15059 non-null   float64\n",
            " 62  COMUNSVOIM  43354 non-null   float64\n",
            " 63  DTRECORIG   71866 non-null   float64\n",
            " 64  DTRECORIGA  240622 non-null  float64\n",
            " 65  CAUSAMAT    5 non-null       object \n",
            " 66  ESC2010     211592 non-null  float64\n",
            " 67  ESCMAE2010  5445 non-null    float64\n",
            " 68  STDOEPIDEM  276907 non-null  float64\n",
            " 69  STDONOVA    276910 non-null  float64\n",
            " 70  SEMAGESTAC  4819 non-null    float64\n",
            " 71  TPMORTEOCO  24237 non-null   float64\n",
            " 72  DIFDATA     240998 non-null  float64\n",
            " 73  DTCONCASO   2539 non-null    float64\n",
            " 74  NUDIASOBIN  8784 non-null    float64\n",
            " 75  SERIESCFAL  76145 non-null   float64\n",
            " 76  SERIESCMAE  2102 non-null    float64\n",
            " 77  CODMUNCART  21022 non-null   float64\n",
            " 78  CODCART     17352 non-null   float64\n",
            " 79  NUMREGCART  16959 non-null   float64\n",
            " 80  DTREGCART   15155 non-null   float64\n",
            " 81  DTCONINV    9937 non-null    float64\n",
            " 82  CODMUNNATU  157804 non-null  float64\n",
            " 83  ESTABDESCR  0 non-null       float64\n",
            " 84  CRM         167178 non-null  float64\n",
            " 85  NUMEROLOTE  169278 non-null  float64\n",
            " 86  STCODIFICA  169252 non-null  object \n",
            " 87  CODIFICADO  169278 non-null  object \n",
            " 88  VERSAOSIST  169278 non-null  object \n",
            " 89  VERSAOSCB   163979 non-null  float64\n",
            " 90  ATESTADO    169278 non-null  object \n",
            " 91  ESCMAEAGR1  3510 non-null    float64\n",
            " 92  ESCFALAGR1  154527 non-null  float64\n",
            " 93  NUDIASOBCO  8156 non-null    float64\n",
            " 94  FONTES      7810 non-null    object \n",
            " 95  TPRESGINFO  256 non-null     float64\n",
            " 96  TPNIVELINV  8202 non-null    object \n",
            " 97  NUDIASINF   937 non-null     float64\n",
            " 98  FONTESINF   37000 non-null   object \n",
            " 99  ALTCAUSA    3921 non-null    float64\n",
            "dtypes: float64(71), int64(11), object(18)\n",
            "memory usage: 237.6+ MB\n"
          ]
        }
      ]
    },
    {
      "cell_type": "markdown",
      "source": [
        "### ETL - Adequando os dados para as análises"
      ],
      "metadata": {
        "id": "OY197rSsdhsW"
      }
    },
    {
      "cell_type": "markdown",
      "source": [
        "#### Ajustando as idades"
      ],
      "metadata": {
        "id": "0L-_C4s9d5Dz"
      }
    },
    {
      "cell_type": "code",
      "source": [
        "obito = df['DTOBITO'].astype(str).str.slice()\n",
        "df['DTOBITO'] = obito.str[-4:].apply(pd.to_numeric)"
      ],
      "metadata": {
        "id": "vfFbeJtizfNV"
      },
      "execution_count": 4,
      "outputs": []
    },
    {
      "cell_type": "code",
      "source": [
        "nasc = df['DTNASC'].astype(str).str.replace('.','0')\n",
        "nasc.dropna()\n",
        "df['DTNASC'] = pd.to_numeric(nasc.str[-6:-2], errors='coerce')"
      ],
      "metadata": {
        "id": "PYxKMPVUzlYd"
      },
      "execution_count": null,
      "outputs": []
    },
    {
      "cell_type": "code",
      "source": [
        "df['IDADE'] = df['DTOBITO'] - df['DTNASC']\n",
        "df['IDADE']"
      ],
      "metadata": {
        "colab": {
          "base_uri": "https://localhost:8080/"
        },
        "id": "_vaWRaZ9zp1y",
        "outputId": "9072ca4c-d94a-4793-f4d8-7037c22de3e6"
      },
      "execution_count": 6,
      "outputs": [
        {
          "output_type": "execute_result",
          "data": {
            "text/plain": [
              "0         91.0\n",
              "1         80.0\n",
              "2         79.0\n",
              "3         63.0\n",
              "4         68.0\n",
              "          ... \n",
              "311381    83.0\n",
              "311382    66.0\n",
              "311383    84.0\n",
              "311384    85.0\n",
              "311385    69.0\n",
              "Name: IDADE, Length: 311386, dtype: float64"
            ]
          },
          "metadata": {},
          "execution_count": 6
        }
      ]
    },
    {
      "cell_type": "markdown",
      "source": [
        "## Selecionando as colunas que farão parte da análise"
      ],
      "metadata": {
        "id": "aUOIQXj5eeRV"
      }
    },
    {
      "cell_type": "code",
      "source": [
        "df_senex = df[['ESTADO', 'ANO', 'IDADE', 'SEXO', 'RACACOR', 'ESTCIV', 'CAUSABAS']]"
      ],
      "metadata": {
        "id": "gjxPqrfWzwvk"
      },
      "execution_count": 8,
      "outputs": []
    },
    {
      "cell_type": "markdown",
      "source": [
        "## Selecionando o público-alvo. \n",
        "Pessoas maiores de 60 anos"
      ],
      "metadata": {
        "id": "ykVLMN_YeoVA"
      }
    },
    {
      "cell_type": "code",
      "source": [
        "Df_senex = df_senex.loc[df.IDADE >= 60]\n",
        "Df_senex"
      ],
      "metadata": {
        "colab": {
          "base_uri": "https://localhost:8080/",
          "height": 424
        },
        "id": "TYK5ix31z4SN",
        "outputId": "74d75986-4bcb-434f-e7f9-f34d28d18121"
      },
      "execution_count": 9,
      "outputs": [
        {
          "output_type": "execute_result",
          "data": {
            "text/plain": [
              "       ESTADO   ANO  IDADE  SEXO  RACACOR  ESTCIV CAUSABAS\n",
              "0          SC  2010   91.0     1      1.0     2.0      C61\n",
              "1          SC  2010   80.0     1      1.0     2.0     I500\n",
              "2          SC  2010   79.0     2      1.0     3.0     I500\n",
              "3          SC  2010   63.0     1      1.0     2.0     C710\n",
              "4          SC  2010   68.0     2      1.0     2.0     C349\n",
              "...       ...   ...    ...   ...      ...     ...      ...\n",
              "311381     SC  2018   83.0     2      1.0     3.0     I429\n",
              "311382     SC  2018   66.0     1      4.0     1.0     K769\n",
              "311383     SC  2018   84.0     1      1.0     2.0     K921\n",
              "311384     SC  2018   85.0     2      1.0     3.0     I219\n",
              "311385     SC  2018   69.0     2      1.0     3.0     C189\n",
              "\n",
              "[208531 rows x 7 columns]"
            ],
            "text/html": [
              "\n",
              "  <div id=\"df-ff1edeb6-f2d6-4bba-9c84-4ab688c9db29\">\n",
              "    <div class=\"colab-df-container\">\n",
              "      <div>\n",
              "<style scoped>\n",
              "    .dataframe tbody tr th:only-of-type {\n",
              "        vertical-align: middle;\n",
              "    }\n",
              "\n",
              "    .dataframe tbody tr th {\n",
              "        vertical-align: top;\n",
              "    }\n",
              "\n",
              "    .dataframe thead th {\n",
              "        text-align: right;\n",
              "    }\n",
              "</style>\n",
              "<table border=\"1\" class=\"dataframe\">\n",
              "  <thead>\n",
              "    <tr style=\"text-align: right;\">\n",
              "      <th></th>\n",
              "      <th>ESTADO</th>\n",
              "      <th>ANO</th>\n",
              "      <th>IDADE</th>\n",
              "      <th>SEXO</th>\n",
              "      <th>RACACOR</th>\n",
              "      <th>ESTCIV</th>\n",
              "      <th>CAUSABAS</th>\n",
              "    </tr>\n",
              "  </thead>\n",
              "  <tbody>\n",
              "    <tr>\n",
              "      <th>0</th>\n",
              "      <td>SC</td>\n",
              "      <td>2010</td>\n",
              "      <td>91.0</td>\n",
              "      <td>1</td>\n",
              "      <td>1.0</td>\n",
              "      <td>2.0</td>\n",
              "      <td>C61</td>\n",
              "    </tr>\n",
              "    <tr>\n",
              "      <th>1</th>\n",
              "      <td>SC</td>\n",
              "      <td>2010</td>\n",
              "      <td>80.0</td>\n",
              "      <td>1</td>\n",
              "      <td>1.0</td>\n",
              "      <td>2.0</td>\n",
              "      <td>I500</td>\n",
              "    </tr>\n",
              "    <tr>\n",
              "      <th>2</th>\n",
              "      <td>SC</td>\n",
              "      <td>2010</td>\n",
              "      <td>79.0</td>\n",
              "      <td>2</td>\n",
              "      <td>1.0</td>\n",
              "      <td>3.0</td>\n",
              "      <td>I500</td>\n",
              "    </tr>\n",
              "    <tr>\n",
              "      <th>3</th>\n",
              "      <td>SC</td>\n",
              "      <td>2010</td>\n",
              "      <td>63.0</td>\n",
              "      <td>1</td>\n",
              "      <td>1.0</td>\n",
              "      <td>2.0</td>\n",
              "      <td>C710</td>\n",
              "    </tr>\n",
              "    <tr>\n",
              "      <th>4</th>\n",
              "      <td>SC</td>\n",
              "      <td>2010</td>\n",
              "      <td>68.0</td>\n",
              "      <td>2</td>\n",
              "      <td>1.0</td>\n",
              "      <td>2.0</td>\n",
              "      <td>C349</td>\n",
              "    </tr>\n",
              "    <tr>\n",
              "      <th>...</th>\n",
              "      <td>...</td>\n",
              "      <td>...</td>\n",
              "      <td>...</td>\n",
              "      <td>...</td>\n",
              "      <td>...</td>\n",
              "      <td>...</td>\n",
              "      <td>...</td>\n",
              "    </tr>\n",
              "    <tr>\n",
              "      <th>311381</th>\n",
              "      <td>SC</td>\n",
              "      <td>2018</td>\n",
              "      <td>83.0</td>\n",
              "      <td>2</td>\n",
              "      <td>1.0</td>\n",
              "      <td>3.0</td>\n",
              "      <td>I429</td>\n",
              "    </tr>\n",
              "    <tr>\n",
              "      <th>311382</th>\n",
              "      <td>SC</td>\n",
              "      <td>2018</td>\n",
              "      <td>66.0</td>\n",
              "      <td>1</td>\n",
              "      <td>4.0</td>\n",
              "      <td>1.0</td>\n",
              "      <td>K769</td>\n",
              "    </tr>\n",
              "    <tr>\n",
              "      <th>311383</th>\n",
              "      <td>SC</td>\n",
              "      <td>2018</td>\n",
              "      <td>84.0</td>\n",
              "      <td>1</td>\n",
              "      <td>1.0</td>\n",
              "      <td>2.0</td>\n",
              "      <td>K921</td>\n",
              "    </tr>\n",
              "    <tr>\n",
              "      <th>311384</th>\n",
              "      <td>SC</td>\n",
              "      <td>2018</td>\n",
              "      <td>85.0</td>\n",
              "      <td>2</td>\n",
              "      <td>1.0</td>\n",
              "      <td>3.0</td>\n",
              "      <td>I219</td>\n",
              "    </tr>\n",
              "    <tr>\n",
              "      <th>311385</th>\n",
              "      <td>SC</td>\n",
              "      <td>2018</td>\n",
              "      <td>69.0</td>\n",
              "      <td>2</td>\n",
              "      <td>1.0</td>\n",
              "      <td>3.0</td>\n",
              "      <td>C189</td>\n",
              "    </tr>\n",
              "  </tbody>\n",
              "</table>\n",
              "<p>208531 rows × 7 columns</p>\n",
              "</div>\n",
              "      <button class=\"colab-df-convert\" onclick=\"convertToInteractive('df-ff1edeb6-f2d6-4bba-9c84-4ab688c9db29')\"\n",
              "              title=\"Convert this dataframe to an interactive table.\"\n",
              "              style=\"display:none;\">\n",
              "        \n",
              "  <svg xmlns=\"http://www.w3.org/2000/svg\" height=\"24px\"viewBox=\"0 0 24 24\"\n",
              "       width=\"24px\">\n",
              "    <path d=\"M0 0h24v24H0V0z\" fill=\"none\"/>\n",
              "    <path d=\"M18.56 5.44l.94 2.06.94-2.06 2.06-.94-2.06-.94-.94-2.06-.94 2.06-2.06.94zm-11 1L8.5 8.5l.94-2.06 2.06-.94-2.06-.94L8.5 2.5l-.94 2.06-2.06.94zm10 10l.94 2.06.94-2.06 2.06-.94-2.06-.94-.94-2.06-.94 2.06-2.06.94z\"/><path d=\"M17.41 7.96l-1.37-1.37c-.4-.4-.92-.59-1.43-.59-.52 0-1.04.2-1.43.59L10.3 9.45l-7.72 7.72c-.78.78-.78 2.05 0 2.83L4 21.41c.39.39.9.59 1.41.59.51 0 1.02-.2 1.41-.59l7.78-7.78 2.81-2.81c.8-.78.8-2.07 0-2.86zM5.41 20L4 18.59l7.72-7.72 1.47 1.35L5.41 20z\"/>\n",
              "  </svg>\n",
              "      </button>\n",
              "      \n",
              "  <style>\n",
              "    .colab-df-container {\n",
              "      display:flex;\n",
              "      flex-wrap:wrap;\n",
              "      gap: 12px;\n",
              "    }\n",
              "\n",
              "    .colab-df-convert {\n",
              "      background-color: #E8F0FE;\n",
              "      border: none;\n",
              "      border-radius: 50%;\n",
              "      cursor: pointer;\n",
              "      display: none;\n",
              "      fill: #1967D2;\n",
              "      height: 32px;\n",
              "      padding: 0 0 0 0;\n",
              "      width: 32px;\n",
              "    }\n",
              "\n",
              "    .colab-df-convert:hover {\n",
              "      background-color: #E2EBFA;\n",
              "      box-shadow: 0px 1px 2px rgba(60, 64, 67, 0.3), 0px 1px 3px 1px rgba(60, 64, 67, 0.15);\n",
              "      fill: #174EA6;\n",
              "    }\n",
              "\n",
              "    [theme=dark] .colab-df-convert {\n",
              "      background-color: #3B4455;\n",
              "      fill: #D2E3FC;\n",
              "    }\n",
              "\n",
              "    [theme=dark] .colab-df-convert:hover {\n",
              "      background-color: #434B5C;\n",
              "      box-shadow: 0px 1px 3px 1px rgba(0, 0, 0, 0.15);\n",
              "      filter: drop-shadow(0px 1px 2px rgba(0, 0, 0, 0.3));\n",
              "      fill: #FFFFFF;\n",
              "    }\n",
              "  </style>\n",
              "\n",
              "      <script>\n",
              "        const buttonEl =\n",
              "          document.querySelector('#df-ff1edeb6-f2d6-4bba-9c84-4ab688c9db29 button.colab-df-convert');\n",
              "        buttonEl.style.display =\n",
              "          google.colab.kernel.accessAllowed ? 'block' : 'none';\n",
              "\n",
              "        async function convertToInteractive(key) {\n",
              "          const element = document.querySelector('#df-ff1edeb6-f2d6-4bba-9c84-4ab688c9db29');\n",
              "          const dataTable =\n",
              "            await google.colab.kernel.invokeFunction('convertToInteractive',\n",
              "                                                     [key], {});\n",
              "          if (!dataTable) return;\n",
              "\n",
              "          const docLinkHtml = 'Like what you see? Visit the ' +\n",
              "            '<a target=\"_blank\" href=https://colab.research.google.com/notebooks/data_table.ipynb>data table notebook</a>'\n",
              "            + ' to learn more about interactive tables.';\n",
              "          element.innerHTML = '';\n",
              "          dataTable['output_type'] = 'display_data';\n",
              "          await google.colab.output.renderOutput(dataTable, element);\n",
              "          const docLink = document.createElement('div');\n",
              "          docLink.innerHTML = docLinkHtml;\n",
              "          element.appendChild(docLink);\n",
              "        }\n",
              "      </script>\n",
              "    </div>\n",
              "  </div>\n",
              "  "
            ]
          },
          "metadata": {},
          "execution_count": 9
        }
      ]
    },
    {
      "cell_type": "code",
      "source": [
        "Df_senex.IDADE.describe()\n"
      ],
      "metadata": {
        "colab": {
          "base_uri": "https://localhost:8080/"
        },
        "id": "ZN6PA_s8z9cp",
        "outputId": "928e73fc-59f0-4aa0-9a61-6bf6d7e3e3b3"
      },
      "execution_count": 10,
      "outputs": [
        {
          "output_type": "execute_result",
          "data": {
            "text/plain": [
              "count    208531.000000\n",
              "mean         77.087488\n",
              "std           9.839754\n",
              "min          60.000000\n",
              "25%          69.000000\n",
              "50%          77.000000\n",
              "75%          85.000000\n",
              "max         116.000000\n",
              "Name: IDADE, dtype: float64"
            ]
          },
          "metadata": {},
          "execution_count": 10
        }
      ]
    },
    {
      "cell_type": "code",
      "source": [
        "numerical =['ANO', 'IDADE']\n",
        "categorical = [\n",
        "  'ESTADO', 'SEXO', 'RACACOR', 'ESTCIV', 'CAUSABAS'\n",
        "]"
      ],
      "metadata": {
        "id": "llTMyiitgzJj"
      },
      "execution_count": 12,
      "outputs": []
    },
    {
      "cell_type": "markdown",
      "source": [
        "## Realizando a exploratória inicial"
      ],
      "metadata": {
        "id": "htmxXHmvfPow"
      }
    },
    {
      "cell_type": "code",
      "source": [
        "import seaborn as sns\n",
        "import matplotlib.pyplot as plt"
      ],
      "metadata": {
        "id": "cNqn4H963ltw"
      },
      "execution_count": 18,
      "outputs": []
    },
    {
      "cell_type": "code",
      "source": [
        "#O banco de dados que será usado na exploratória tem essas dimensões\n",
        "Df_senex.info()"
      ],
      "metadata": {
        "colab": {
          "base_uri": "https://localhost:8080/"
        },
        "id": "1snfvPGjnTO1",
        "outputId": "26d540e2-4c08-4a6f-9082-56e43cbd446d"
      },
      "execution_count": 44,
      "outputs": [
        {
          "output_type": "stream",
          "name": "stdout",
          "text": [
            "<class 'pandas.core.frame.DataFrame'>\n",
            "Int64Index: 208531 entries, 0 to 311385\n",
            "Data columns (total 7 columns):\n",
            " #   Column    Non-Null Count   Dtype  \n",
            "---  ------    --------------   -----  \n",
            " 0   ESTADO    208531 non-null  object \n",
            " 1   ANO       208531 non-null  int64  \n",
            " 2   IDADE     208531 non-null  float64\n",
            " 3   SEXO      208531 non-null  int64  \n",
            " 4   RACACOR   204574 non-null  float64\n",
            " 5   ESTCIV    204380 non-null  float64\n",
            " 6   CAUSABAS  208531 non-null  object \n",
            "dtypes: float64(3), int64(2), object(2)\n",
            "memory usage: 20.8+ MB\n"
          ]
        }
      ]
    },
    {
      "cell_type": "code",
      "source": [
        "sns.set(style='whitegrid', palette=\"deep\", font_scale=1.1, rc={\"figure.figsize\": [8, 5]})\n",
        "sns.distplot(\n",
        "    Df_senex['IDADE'], norm_hist=False, kde=False, bins=10, hist_kws={\"alpha\": 1}\n",
        ").set(xlabel='IDADE', ylabel='Contagem', title='Distribuição de frequências');"
      ],
      "metadata": {
        "colab": {
          "base_uri": "https://localhost:8080/",
          "height": 358
        },
        "id": "rbRvUkuwggNq",
        "outputId": "a6a021dd-a611-45d2-bbfb-31c26f778535"
      },
      "execution_count": 17,
      "outputs": [
        {
          "output_type": "display_data",
          "data": {
            "text/plain": [
              "<Figure size 576x360 with 1 Axes>"
            ],
            "image/png": "[encoded data removed]"
          },
          "metadata": {}
        }
      ]
    },
    {
      "cell_type": "code",
      "source": [
        "Df_senex[numerical].hist(bins=15, figsize=(15, 6), layout=(2, 4));"
      ],
      "metadata": {
        "colab": {
          "base_uri": "https://localhost:8080/",
          "height": 211
        },
        "id": "K_6OLvtchCUP",
        "outputId": "bfdf72db-0a4b-4f62-85a6-cbce722b5714"
      },
      "execution_count": 22,
      "outputs": [
        {
          "output_type": "display_data",
          "data": {
            "text/plain": [
              "<Figure size 1080x432 with 8 Axes>"
            ],
            "image/png": "[encoded data removed]"
          },
          "metadata": {}
        }
      ]
    },
    {
      "cell_type": "code",
      "source": [
        "fig, ax = plt.subplots(figsize=(30, 10))\n",
        "sorted_nb = df_senex.groupby(['CAUSABAS'])['CAUSABAS'].count().nlargest(50)\n",
        "sns.countplot(ax=ax,data=df_senex,x=df_senex['CAUSABAS'],hue=\"SEXO\", order=list(sorted_nb.index[0:50]))\n",
        "plt.show()"
      ],
      "metadata": {
        "colab": {
          "base_uri": "https://localhost:8080/",
          "height": 441
        },
        "id": "LiCnzsBbkv3s",
        "outputId": "26553867-5e98-4159-9293-974245c99e2f"
      },
      "execution_count": 38,
      "outputs": [
        {
          "output_type": "display_data",
          "data": {
            "text/plain": [
              "<Figure size 2160x720 with 1 Axes>"
            ],
            "image/png": "[encoded data removed]"
          },
          "metadata": {}
        }
      ]
    },
    {
      "cell_type": "code",
      "source": [
        "fig, ax = plt.subplots(figsize=(25, 10))\n",
        "sorted_nb = df_senex.groupby(['CAUSABAS'])['CAUSABAS'].count().nlargest(50)\n",
        "sns.countplot(ax=ax,data=df_senex,x=df_senex['CAUSABAS'],hue=\"RACACOR\", order=list(sorted_nb.index[0:40]))\n",
        "plt.show()"
      ],
      "metadata": {
        "colab": {
          "base_uri": "https://localhost:8080/",
          "height": 521
        },
        "id": "qiw5sh9fmf3r",
        "outputId": "ef77d5fd-34c2-450c-cec4-22ce242b965f"
      },
      "execution_count": 40,
      "outputs": [
        {
          "output_type": "display_data",
          "data": {
            "text/plain": [
              "<Figure size 1800x720 with 1 Axes>"
            ],
            "image/png": "[encoded data removed]"
          },
          "metadata": {}
        }
      ]
    },
    {
      "cell_type": "code",
      "source": [
        "fig, ax = plt.subplots(figsize=(25, 10))\n",
        "sorted_nb = df_senex.groupby(['CAUSABAS'])['CAUSABAS'].count().nlargest(50)\n",
        "sns.countplot(ax=ax,data=df_senex,x=df_senex['CAUSABAS'],hue=\"ESTCIV\", order=list(sorted_nb.index[0:40]))\n",
        "plt.show()"
      ],
      "metadata": {
        "colab": {
          "base_uri": "https://localhost:8080/",
          "height": 634
        },
        "id": "xrca0CvYm5l5",
        "outputId": "29683ed4-d01f-4ebd-8541-e07c9b0c81fa"
      },
      "execution_count": 42,
      "outputs": [
        {
          "output_type": "display_data",
          "data": {
            "text/plain": [
              "<Figure size 1800x720 with 1 Axes>"
            ],
            "image/png": "[encoded data removed]"
          },
          "metadata": {}
        }
      ]
    },
    {
      "cell_type": "markdown",
      "source": [
        "É possível tirar insights importantes como por exemplo a CID 10 I219 - Doença cardíaca é um problema que aflige a população em sentido lato. Ataca com mais frequência todos os agrupamentos (raça/cor, estado civil...). É um bom alvo para pesquisas."
      ],
      "metadata": {
        "id": "AKAZSHtdnn8c"
      }
    },
    {
      "cell_type": "markdown",
      "source": [
        "### Esquema de validação dos dados - visando mineração"
      ],
      "metadata": {
        "id": "6lSr670toU_1"
      }
    },
    {
      "cell_type": "code",
      "source": [
        "!pip install pandera"
      ],
      "metadata": {
        "colab": {
          "base_uri": "https://localhost:8080/"
        },
        "id": "voigtbC9mvlJ",
        "outputId": "4368af2e-30db-4523-cc93-97dd7cb7c37d"
      },
      "execution_count": 46,
      "outputs": [
        {
          "output_type": "stream",
          "name": "stdout",
          "text": [
            "Looking in indexes: https://pypi.org/simple, https://us-python.pkg.dev/colab-wheels/public/simple/\n",
            "Collecting pandera\n",
            "  Downloading pandera-0.13.3-py3-none-any.whl (120 kB)\n",
            "\u001b[K     |████████████████████████████████| 120 kB 15.7 MB/s \n",
            "\u001b[?25hRequirement already satisfied: pydantic in /usr/local/lib/python3.7/dist-packages (from pandera) (1.9.2)\n",
            "Requirement already satisfied: wrapt in /usr/local/lib/python3.7/dist-packages (from pandera) (1.14.1)\n",
            "Requirement already satisfied: numpy>=1.19.0 in /usr/local/lib/python3.7/dist-packages (from pandera) (1.21.6)\n",
            "Collecting typing-inspect>=0.6.0\n",
            "  Downloading typing_inspect-0.8.0-py3-none-any.whl (8.7 kB)\n",
            "Requirement already satisfied: pandas>=1.2.0 in /usr/local/lib/python3.7/dist-packages (from pandera) (1.3.5)\n",
            "Requirement already satisfied: typing-extensions>=3.7.4.3 in /usr/local/lib/python3.7/dist-packages (from pandera) (4.1.1)\n",
            "Requirement already satisfied: packaging>=20.0 in /usr/local/lib/python3.7/dist-packages (from pandera) (21.3)\n",
            "Requirement already satisfied: pyparsing!=3.0.5,>=2.0.2 in /usr/local/lib/python3.7/dist-packages (from packaging>=20.0->pandera) (3.0.9)\n",
            "Requirement already satisfied: pytz>=2017.3 in /usr/local/lib/python3.7/dist-packages (from pandas>=1.2.0->pandera) (2022.4)\n",
            "Requirement already satisfied: python-dateutil>=2.7.3 in /usr/local/lib/python3.7/dist-packages (from pandas>=1.2.0->pandera) (2.8.2)\n",
            "Requirement already satisfied: six>=1.5 in /usr/local/lib/python3.7/dist-packages (from python-dateutil>=2.7.3->pandas>=1.2.0->pandera) (1.15.0)\n",
            "Collecting mypy-extensions>=0.3.0\n",
            "  Downloading mypy_extensions-0.4.3-py2.py3-none-any.whl (4.5 kB)\n",
            "Installing collected packages: mypy-extensions, typing-inspect, pandera\n",
            "Successfully installed mypy-extensions-0.4.3 pandera-0.13.3 typing-inspect-0.8.0\n"
          ]
        }
      ]
    },
    {
      "cell_type": "code",
      "source": [
        "import pandera as pa"
      ],
      "metadata": {
        "id": "CZ9y_VVIof8n"
      },
      "execution_count": 47,
      "outputs": []
    },
    {
      "cell_type": "code",
      "source": [
        "schema = pa.DataFrameSchema(\n",
        "    columns = {\n",
        "        \"ESTADO\":pa.Column(pa.String, pa.Check.str_length(2,2)),\n",
        "        \"ANO\":pa.Column(pa.Int),\n",
        "        \"IDADE\":pa.Column(pa.Int),\n",
        "        \"SEXO\":pa.Column(pa.Int),\n",
        "        \"RACACOR\":pa.Column(pa.Int),\n",
        "        \"ESTCIV\":pa.Column(pa.Int),\n",
        "        \"CAUSABAS\":pa.Column(pa.String)\n",
        "    }\n",
        ")"
      ],
      "metadata": {
        "id": "q9S13shIorIp"
      },
      "execution_count": 49,
      "outputs": []
    },
    {
      "cell_type": "code",
      "source": [
        "schema.validate(Df_senex)"
      ],
      "metadata": {
        "colab": {
          "base_uri": "https://localhost:8080/",
          "height": 311
        },
        "id": "H9fRbyrpqrk5",
        "outputId": "ed2b7e9b-fe38-410a-9591-d5c4b644727d"
      },
      "execution_count": 50,
      "outputs": [
        {
          "output_type": "error",
          "ename": "SchemaError",
          "evalue": "ignored",
          "traceback": [
            "\u001b[0;31m---------------------------------------------------------------------------\u001b[0m",
            "\u001b[0;31mSchemaError\u001b[0m                               Traceback (most recent call last)",
            "\u001b[0;32m<ipython-input-50-884bf637c38b>\u001b[0m in \u001b[0;36m<module>\u001b[0;34m\u001b[0m\n\u001b[0;32m----> 1\u001b[0;31m \u001b[0mschema\u001b[0m\u001b[0;34m.\u001b[0m\u001b[0mvalidate\u001b[0m\u001b[0;34m(\u001b[0m\u001b[0mDf_senex\u001b[0m\u001b[0;34m)\u001b[0m\u001b[0;34m\u001b[0m\u001b[0;34m\u001b[0m\u001b[0m\n\u001b[0m",
            "\u001b[0;32m/usr/local/lib/python3.7/dist-packages/pandera/schemas.py\u001b[0m in \u001b[0;36mvalidate\u001b[0;34m(self, check_obj, head, tail, sample, random_state, lazy, inplace)\u001b[0m\n\u001b[1;32m    534\u001b[0m             \u001b[0mrandom_state\u001b[0m\u001b[0;34m=\u001b[0m\u001b[0mrandom_state\u001b[0m\u001b[0;34m,\u001b[0m\u001b[0;34m\u001b[0m\u001b[0;34m\u001b[0m\u001b[0m\n\u001b[1;32m    535\u001b[0m             \u001b[0mlazy\u001b[0m\u001b[0;34m=\u001b[0m\u001b[0mlazy\u001b[0m\u001b[0;34m,\u001b[0m\u001b[0;34m\u001b[0m\u001b[0;34m\u001b[0m\u001b[0m\n\u001b[0;32m--> 536\u001b[0;31m             \u001b[0minplace\u001b[0m\u001b[0;34m=\u001b[0m\u001b[0minplace\u001b[0m\u001b[0;34m,\u001b[0m\u001b[0;34m\u001b[0m\u001b[0;34m\u001b[0m\u001b[0m\n\u001b[0m\u001b[1;32m    537\u001b[0m         )\n\u001b[1;32m    538\u001b[0m \u001b[0;34m\u001b[0m\u001b[0m\n",
            "\u001b[0;32m/usr/local/lib/python3.7/dist-packages/pandera/schemas.py\u001b[0m in \u001b[0;36m_validate\u001b[0;34m(self, check_obj, head, tail, sample, random_state, lazy, inplace)\u001b[0m\n\u001b[1;32m    725\u001b[0m                 \u001b[0mcheck_results\u001b[0m\u001b[0;34m.\u001b[0m\u001b[0mappend\u001b[0m\u001b[0;34m(\u001b[0m\u001b[0mcheck_utils\u001b[0m\u001b[0;34m.\u001b[0m\u001b[0mis_table\u001b[0m\u001b[0;34m(\u001b[0m\u001b[0mresult\u001b[0m\u001b[0;34m)\u001b[0m\u001b[0;34m)\u001b[0m\u001b[0;34m\u001b[0m\u001b[0;34m\u001b[0m\u001b[0m\n\u001b[1;32m    726\u001b[0m             \u001b[0;32mexcept\u001b[0m \u001b[0merrors\u001b[0m\u001b[0;34m.\u001b[0m\u001b[0mSchemaError\u001b[0m \u001b[0;32mas\u001b[0m \u001b[0merr\u001b[0m\u001b[0;34m:\u001b[0m\u001b[0;34m\u001b[0m\u001b[0;34m\u001b[0m\u001b[0m\n\u001b[0;32m--> 727\u001b[0;31m                 \u001b[0merror_handler\u001b[0m\u001b[0;34m.\u001b[0m\u001b[0mcollect_error\u001b[0m\u001b[0;34m(\u001b[0m\u001b[0;34m\"schema_component_check\"\u001b[0m\u001b[0;34m,\u001b[0m \u001b[0merr\u001b[0m\u001b[0;34m)\u001b[0m\u001b[0;34m\u001b[0m\u001b[0;34m\u001b[0m\u001b[0m\n\u001b[0m\u001b[1;32m    728\u001b[0m             \u001b[0;32mexcept\u001b[0m \u001b[0merrors\u001b[0m\u001b[0;34m.\u001b[0m\u001b[0mSchemaErrors\u001b[0m \u001b[0;32mas\u001b[0m \u001b[0merr\u001b[0m\u001b[0;34m:\u001b[0m\u001b[0;34m\u001b[0m\u001b[0;34m\u001b[0m\u001b[0m\n\u001b[1;32m    729\u001b[0m                 \u001b[0;32mfor\u001b[0m \u001b[0mschema_error_dict\u001b[0m \u001b[0;32min\u001b[0m \u001b[0merr\u001b[0m\u001b[0;34m.\u001b[0m\u001b[0mschema_errors\u001b[0m\u001b[0;34m:\u001b[0m\u001b[0;34m\u001b[0m\u001b[0;34m\u001b[0m\u001b[0m\n",
            "\u001b[0;32m/usr/local/lib/python3.7/dist-packages/pandera/error_handlers.py\u001b[0m in \u001b[0;36mcollect_error\u001b[0;34m(self, reason_code, schema_error, original_exc)\u001b[0m\n\u001b[1;32m     30\u001b[0m         \"\"\"\n\u001b[1;32m     31\u001b[0m         \u001b[0;32mif\u001b[0m \u001b[0;32mnot\u001b[0m \u001b[0mself\u001b[0m\u001b[0;34m.\u001b[0m\u001b[0m_lazy\u001b[0m\u001b[0;34m:\u001b[0m\u001b[0;34m\u001b[0m\u001b[0;34m\u001b[0m\u001b[0m\n\u001b[0;32m---> 32\u001b[0;31m             \u001b[0;32mraise\u001b[0m \u001b[0mschema_error\u001b[0m \u001b[0;32mfrom\u001b[0m \u001b[0moriginal_exc\u001b[0m\u001b[0;34m\u001b[0m\u001b[0;34m\u001b[0m\u001b[0m\n\u001b[0m\u001b[1;32m     33\u001b[0m \u001b[0;34m\u001b[0m\u001b[0m\n\u001b[1;32m     34\u001b[0m         \u001b[0;31m# delete data of validated object from SchemaError object to prevent\u001b[0m\u001b[0;34m\u001b[0m\u001b[0;34m\u001b[0m\u001b[0;34m\u001b[0m\u001b[0m\n",
            "\u001b[0;32m/usr/local/lib/python3.7/dist-packages/pandera/schemas.py\u001b[0m in \u001b[0;36m_validate\u001b[0;34m(self, check_obj, head, tail, sample, random_state, lazy, inplace)\u001b[0m\n\u001b[1;32m    721\u001b[0m                     \u001b[0mlazy\u001b[0m\u001b[0;34m=\u001b[0m\u001b[0mlazy\u001b[0m\u001b[0;34m,\u001b[0m\u001b[0;34m\u001b[0m\u001b[0;34m\u001b[0m\u001b[0m\n\u001b[1;32m    722\u001b[0m                     \u001b[0;31m# don't make a copy of the data\u001b[0m\u001b[0;34m\u001b[0m\u001b[0;34m\u001b[0m\u001b[0;34m\u001b[0m\u001b[0m\n\u001b[0;32m--> 723\u001b[0;31m                     \u001b[0minplace\u001b[0m\u001b[0;34m=\u001b[0m\u001b[0;32mTrue\u001b[0m\u001b[0;34m,\u001b[0m\u001b[0;34m\u001b[0m\u001b[0;34m\u001b[0m\u001b[0m\n\u001b[0m\u001b[1;32m    724\u001b[0m                 )\n\u001b[1;32m    725\u001b[0m                 \u001b[0mcheck_results\u001b[0m\u001b[0;34m.\u001b[0m\u001b[0mappend\u001b[0m\u001b[0;34m(\u001b[0m\u001b[0mcheck_utils\u001b[0m\u001b[0;34m.\u001b[0m\u001b[0mis_table\u001b[0m\u001b[0;34m(\u001b[0m\u001b[0mresult\u001b[0m\u001b[0;34m)\u001b[0m\u001b[0;34m)\u001b[0m\u001b[0;34m\u001b[0m\u001b[0;34m\u001b[0m\u001b[0m\n",
            "\u001b[0;32m/usr/local/lib/python3.7/dist-packages/pandera/schemas.py\u001b[0m in \u001b[0;36m__call__\u001b[0;34m(self, check_obj, head, tail, sample, random_state, lazy, inplace)\u001b[0m\n\u001b[1;32m   2099\u001b[0m         \u001b[0;34m\"\"\"Alias for ``validate`` method.\"\"\"\u001b[0m\u001b[0;34m\u001b[0m\u001b[0;34m\u001b[0m\u001b[0m\n\u001b[1;32m   2100\u001b[0m         return self.validate(\n\u001b[0;32m-> 2101\u001b[0;31m             \u001b[0mcheck_obj\u001b[0m\u001b[0;34m,\u001b[0m \u001b[0mhead\u001b[0m\u001b[0;34m,\u001b[0m \u001b[0mtail\u001b[0m\u001b[0;34m,\u001b[0m \u001b[0msample\u001b[0m\u001b[0;34m,\u001b[0m \u001b[0mrandom_state\u001b[0m\u001b[0;34m,\u001b[0m \u001b[0mlazy\u001b[0m\u001b[0;34m,\u001b[0m \u001b[0minplace\u001b[0m\u001b[0;34m\u001b[0m\u001b[0;34m\u001b[0m\u001b[0m\n\u001b[0m\u001b[1;32m   2102\u001b[0m         )\n\u001b[1;32m   2103\u001b[0m \u001b[0;34m\u001b[0m\u001b[0m\n",
            "\u001b[0;32m/usr/local/lib/python3.7/dist-packages/pandera/schema_components.py\u001b[0m in \u001b[0;36mvalidate\u001b[0;34m(self, check_obj, head, tail, sample, random_state, lazy, inplace)\u001b[0m\n\u001b[1;32m    221\u001b[0m                     )\n\u001b[1;32m    222\u001b[0m             \u001b[0;32melse\u001b[0m\u001b[0;34m:\u001b[0m\u001b[0;34m\u001b[0m\u001b[0;34m\u001b[0m\u001b[0m\n\u001b[0;32m--> 223\u001b[0;31m                 \u001b[0mvalidate_column\u001b[0m\u001b[0;34m(\u001b[0m\u001b[0mcheck_obj\u001b[0m\u001b[0;34m,\u001b[0m \u001b[0mcolumn_name\u001b[0m\u001b[0;34m)\u001b[0m\u001b[0;34m\u001b[0m\u001b[0;34m\u001b[0m\u001b[0m\n\u001b[0m\u001b[1;32m    224\u001b[0m \u001b[0;34m\u001b[0m\u001b[0m\n\u001b[1;32m    225\u001b[0m         \u001b[0;32mreturn\u001b[0m \u001b[0mcheck_obj\u001b[0m\u001b[0;34m\u001b[0m\u001b[0;34m\u001b[0m\u001b[0m\n",
            "\u001b[0;32m/usr/local/lib/python3.7/dist-packages/pandera/schema_components.py\u001b[0m in \u001b[0;36mvalidate_column\u001b[0;34m(check_obj, column_name)\u001b[0m\n\u001b[1;32m    201\u001b[0m                 \u001b[0mrandom_state\u001b[0m\u001b[0;34m,\u001b[0m\u001b[0;34m\u001b[0m\u001b[0;34m\u001b[0m\u001b[0m\n\u001b[1;32m    202\u001b[0m                 \u001b[0mlazy\u001b[0m\u001b[0;34m,\u001b[0m\u001b[0;34m\u001b[0m\u001b[0;34m\u001b[0m\u001b[0m\n\u001b[0;32m--> 203\u001b[0;31m                 \u001b[0minplace\u001b[0m\u001b[0;34m=\u001b[0m\u001b[0minplace\u001b[0m\u001b[0;34m,\u001b[0m\u001b[0;34m\u001b[0m\u001b[0;34m\u001b[0m\u001b[0m\n\u001b[0m\u001b[1;32m    204\u001b[0m             )\n\u001b[1;32m    205\u001b[0m \u001b[0;34m\u001b[0m\u001b[0m\n",
            "\u001b[0;32m/usr/local/lib/python3.7/dist-packages/pandera/schemas.py\u001b[0m in \u001b[0;36mvalidate\u001b[0;34m(self, check_obj, head, tail, sample, random_state, lazy, inplace)\u001b[0m\n\u001b[1;32m   2038\u001b[0m                         \u001b[0mmsg\u001b[0m\u001b[0;34m,\u001b[0m\u001b[0;34m\u001b[0m\u001b[0;34m\u001b[0m\u001b[0m\n\u001b[1;32m   2039\u001b[0m                         \u001b[0mfailure_cases\u001b[0m\u001b[0;34m=\u001b[0m\u001b[0mfailure_cases\u001b[0m\u001b[0;34m,\u001b[0m\u001b[0;34m\u001b[0m\u001b[0;34m\u001b[0m\u001b[0m\n\u001b[0;32m-> 2040\u001b[0;31m                         \u001b[0mcheck\u001b[0m\u001b[0;34m=\u001b[0m\u001b[0;34mf\"dtype('{self.dtype}')\"\u001b[0m\u001b[0;34m,\u001b[0m\u001b[0;34m\u001b[0m\u001b[0;34m\u001b[0m\u001b[0m\n\u001b[0m\u001b[1;32m   2041\u001b[0m                     ),\n\u001b[1;32m   2042\u001b[0m                 )\n",
            "\u001b[0;32m/usr/local/lib/python3.7/dist-packages/pandera/error_handlers.py\u001b[0m in \u001b[0;36mcollect_error\u001b[0;34m(self, reason_code, schema_error, original_exc)\u001b[0m\n\u001b[1;32m     30\u001b[0m         \"\"\"\n\u001b[1;32m     31\u001b[0m         \u001b[0;32mif\u001b[0m \u001b[0;32mnot\u001b[0m \u001b[0mself\u001b[0m\u001b[0;34m.\u001b[0m\u001b[0m_lazy\u001b[0m\u001b[0;34m:\u001b[0m\u001b[0;34m\u001b[0m\u001b[0;34m\u001b[0m\u001b[0m\n\u001b[0;32m---> 32\u001b[0;31m             \u001b[0;32mraise\u001b[0m \u001b[0mschema_error\u001b[0m \u001b[0;32mfrom\u001b[0m \u001b[0moriginal_exc\u001b[0m\u001b[0;34m\u001b[0m\u001b[0;34m\u001b[0m\u001b[0m\n\u001b[0m\u001b[1;32m     33\u001b[0m \u001b[0;34m\u001b[0m\u001b[0m\n\u001b[1;32m     34\u001b[0m         \u001b[0;31m# delete data of validated object from SchemaError object to prevent\u001b[0m\u001b[0;34m\u001b[0m\u001b[0;34m\u001b[0m\u001b[0;34m\u001b[0m\u001b[0m\n",
            "\u001b[0;31mSchemaError\u001b[0m: expected series 'IDADE' to have type int64, got float64"
          ]
        }
      ]
    },
    {
      "cell_type": "code",
      "source": [
        "Df_senex[\"IDADE\"] = Df_senex[\"IDADE\"].astype(float).astype(int)"
      ],
      "metadata": {
        "colab": {
          "base_uri": "https://localhost:8080/"
        },
        "id": "N7EBhXIAq1G-",
        "outputId": "147d9e74-1ff7-4178-c34f-6fc0705dd83e"
      },
      "execution_count": 52,
      "outputs": [
        {
          "output_type": "stream",
          "name": "stderr",
          "text": [
            "/usr/local/lib/python3.7/dist-packages/ipykernel_launcher.py:1: SettingWithCopyWarning: \n",
            "A value is trying to be set on a copy of a slice from a DataFrame.\n",
            "Try using .loc[row_indexer,col_indexer] = value instead\n",
            "\n",
            "See the caveats in the documentation: https://pandas.pydata.org/pandas-docs/stable/user_guide/indexing.html#returning-a-view-versus-a-copy\n",
            "  \"\"\"Entry point for launching an IPython kernel.\n"
          ]
        }
      ]
    },
    {
      "cell_type": "code",
      "source": [
        "schema.validate(Df_senex)"
      ],
      "metadata": {
        "colab": {
          "base_uri": "https://localhost:8080/",
          "height": 519
        },
        "id": "Al9pSc3zrTG4",
        "outputId": "4e10de69-6097-4039-85a1-69386f7ef95b"
      },
      "execution_count": 53,
      "outputs": [
        {
          "output_type": "error",
          "ename": "SchemaError",
          "evalue": "ignored",
          "traceback": [
            "\u001b[0;31m---------------------------------------------------------------------------\u001b[0m",
            "\u001b[0;31mSchemaError\u001b[0m                               Traceback (most recent call last)",
            "\u001b[0;32m<ipython-input-53-884bf637c38b>\u001b[0m in \u001b[0;36m<module>\u001b[0;34m\u001b[0m\n\u001b[0;32m----> 1\u001b[0;31m \u001b[0mschema\u001b[0m\u001b[0;34m.\u001b[0m\u001b[0mvalidate\u001b[0m\u001b[0;34m(\u001b[0m\u001b[0mDf_senex\u001b[0m\u001b[0;34m)\u001b[0m\u001b[0;34m\u001b[0m\u001b[0;34m\u001b[0m\u001b[0m\n\u001b[0m",
            "\u001b[0;32m/usr/local/lib/python3.7/dist-packages/pandera/schemas.py\u001b[0m in \u001b[0;36mvalidate\u001b[0;34m(self, check_obj, head, tail, sample, random_state, lazy, inplace)\u001b[0m\n\u001b[1;32m    534\u001b[0m             \u001b[0mrandom_state\u001b[0m\u001b[0;34m=\u001b[0m\u001b[0mrandom_state\u001b[0m\u001b[0;34m,\u001b[0m\u001b[0;34m\u001b[0m\u001b[0;34m\u001b[0m\u001b[0m\n\u001b[1;32m    535\u001b[0m             \u001b[0mlazy\u001b[0m\u001b[0;34m=\u001b[0m\u001b[0mlazy\u001b[0m\u001b[0;34m,\u001b[0m\u001b[0;34m\u001b[0m\u001b[0;34m\u001b[0m\u001b[0m\n\u001b[0;32m--> 536\u001b[0;31m             \u001b[0minplace\u001b[0m\u001b[0;34m=\u001b[0m\u001b[0minplace\u001b[0m\u001b[0;34m,\u001b[0m\u001b[0;34m\u001b[0m\u001b[0;34m\u001b[0m\u001b[0m\n\u001b[0m\u001b[1;32m    537\u001b[0m         )\n\u001b[1;32m    538\u001b[0m \u001b[0;34m\u001b[0m\u001b[0m\n",
            "\u001b[0;32m/usr/local/lib/python3.7/dist-packages/pandera/schemas.py\u001b[0m in \u001b[0;36m_validate\u001b[0;34m(self, check_obj, head, tail, sample, random_state, lazy, inplace)\u001b[0m\n\u001b[1;32m    725\u001b[0m                 \u001b[0mcheck_results\u001b[0m\u001b[0;34m.\u001b[0m\u001b[0mappend\u001b[0m\u001b[0;34m(\u001b[0m\u001b[0mcheck_utils\u001b[0m\u001b[0;34m.\u001b[0m\u001b[0mis_table\u001b[0m\u001b[0;34m(\u001b[0m\u001b[0mresult\u001b[0m\u001b[0;34m)\u001b[0m\u001b[0;34m)\u001b[0m\u001b[0;34m\u001b[0m\u001b[0;34m\u001b[0m\u001b[0m\n\u001b[1;32m    726\u001b[0m             \u001b[0;32mexcept\u001b[0m \u001b[0merrors\u001b[0m\u001b[0;34m.\u001b[0m\u001b[0mSchemaError\u001b[0m \u001b[0;32mas\u001b[0m \u001b[0merr\u001b[0m\u001b[0;34m:\u001b[0m\u001b[0;34m\u001b[0m\u001b[0;34m\u001b[0m\u001b[0m\n\u001b[0;32m--> 727\u001b[0;31m                 \u001b[0merror_handler\u001b[0m\u001b[0;34m.\u001b[0m\u001b[0mcollect_error\u001b[0m\u001b[0;34m(\u001b[0m\u001b[0;34m\"schema_component_check\"\u001b[0m\u001b[0;34m,\u001b[0m \u001b[0merr\u001b[0m\u001b[0;34m)\u001b[0m\u001b[0;34m\u001b[0m\u001b[0;34m\u001b[0m\u001b[0m\n\u001b[0m\u001b[1;32m    728\u001b[0m             \u001b[0;32mexcept\u001b[0m \u001b[0merrors\u001b[0m\u001b[0;34m.\u001b[0m\u001b[0mSchemaErrors\u001b[0m \u001b[0;32mas\u001b[0m \u001b[0merr\u001b[0m\u001b[0;34m:\u001b[0m\u001b[0;34m\u001b[0m\u001b[0;34m\u001b[0m\u001b[0m\n\u001b[1;32m    729\u001b[0m                 \u001b[0;32mfor\u001b[0m \u001b[0mschema_error_dict\u001b[0m \u001b[0;32min\u001b[0m \u001b[0merr\u001b[0m\u001b[0;34m.\u001b[0m\u001b[0mschema_errors\u001b[0m\u001b[0;34m:\u001b[0m\u001b[0;34m\u001b[0m\u001b[0;34m\u001b[0m\u001b[0m\n",
            "\u001b[0;32m/usr/local/lib/python3.7/dist-packages/pandera/error_handlers.py\u001b[0m in \u001b[0;36mcollect_error\u001b[0;34m(self, reason_code, schema_error, original_exc)\u001b[0m\n\u001b[1;32m     30\u001b[0m         \"\"\"\n\u001b[1;32m     31\u001b[0m         \u001b[0;32mif\u001b[0m \u001b[0;32mnot\u001b[0m \u001b[0mself\u001b[0m\u001b[0;34m.\u001b[0m\u001b[0m_lazy\u001b[0m\u001b[0;34m:\u001b[0m\u001b[0;34m\u001b[0m\u001b[0;34m\u001b[0m\u001b[0m\n\u001b[0;32m---> 32\u001b[0;31m             \u001b[0;32mraise\u001b[0m \u001b[0mschema_error\u001b[0m \u001b[0;32mfrom\u001b[0m \u001b[0moriginal_exc\u001b[0m\u001b[0;34m\u001b[0m\u001b[0;34m\u001b[0m\u001b[0m\n\u001b[0m\u001b[1;32m     33\u001b[0m \u001b[0;34m\u001b[0m\u001b[0m\n\u001b[1;32m     34\u001b[0m         \u001b[0;31m# delete data of validated object from SchemaError object to prevent\u001b[0m\u001b[0;34m\u001b[0m\u001b[0;34m\u001b[0m\u001b[0;34m\u001b[0m\u001b[0m\n",
            "\u001b[0;32m/usr/local/lib/python3.7/dist-packages/pandera/schemas.py\u001b[0m in \u001b[0;36m_validate\u001b[0;34m(self, check_obj, head, tail, sample, random_state, lazy, inplace)\u001b[0m\n\u001b[1;32m    721\u001b[0m                     \u001b[0mlazy\u001b[0m\u001b[0;34m=\u001b[0m\u001b[0mlazy\u001b[0m\u001b[0;34m,\u001b[0m\u001b[0;34m\u001b[0m\u001b[0;34m\u001b[0m\u001b[0m\n\u001b[1;32m    722\u001b[0m                     \u001b[0;31m# don't make a copy of the data\u001b[0m\u001b[0;34m\u001b[0m\u001b[0;34m\u001b[0m\u001b[0;34m\u001b[0m\u001b[0m\n\u001b[0;32m--> 723\u001b[0;31m                     \u001b[0minplace\u001b[0m\u001b[0;34m=\u001b[0m\u001b[0;32mTrue\u001b[0m\u001b[0;34m,\u001b[0m\u001b[0;34m\u001b[0m\u001b[0;34m\u001b[0m\u001b[0m\n\u001b[0m\u001b[1;32m    724\u001b[0m                 )\n\u001b[1;32m    725\u001b[0m                 \u001b[0mcheck_results\u001b[0m\u001b[0;34m.\u001b[0m\u001b[0mappend\u001b[0m\u001b[0;34m(\u001b[0m\u001b[0mcheck_utils\u001b[0m\u001b[0;34m.\u001b[0m\u001b[0mis_table\u001b[0m\u001b[0;34m(\u001b[0m\u001b[0mresult\u001b[0m\u001b[0;34m)\u001b[0m\u001b[0;34m)\u001b[0m\u001b[0;34m\u001b[0m\u001b[0;34m\u001b[0m\u001b[0m\n",
            "\u001b[0;32m/usr/local/lib/python3.7/dist-packages/pandera/schemas.py\u001b[0m in \u001b[0;36m__call__\u001b[0;34m(self, check_obj, head, tail, sample, random_state, lazy, inplace)\u001b[0m\n\u001b[1;32m   2099\u001b[0m         \u001b[0;34m\"\"\"Alias for ``validate`` method.\"\"\"\u001b[0m\u001b[0;34m\u001b[0m\u001b[0;34m\u001b[0m\u001b[0m\n\u001b[1;32m   2100\u001b[0m         return self.validate(\n\u001b[0;32m-> 2101\u001b[0;31m             \u001b[0mcheck_obj\u001b[0m\u001b[0;34m,\u001b[0m \u001b[0mhead\u001b[0m\u001b[0;34m,\u001b[0m \u001b[0mtail\u001b[0m\u001b[0;34m,\u001b[0m \u001b[0msample\u001b[0m\u001b[0;34m,\u001b[0m \u001b[0mrandom_state\u001b[0m\u001b[0;34m,\u001b[0m \u001b[0mlazy\u001b[0m\u001b[0;34m,\u001b[0m \u001b[0minplace\u001b[0m\u001b[0;34m\u001b[0m\u001b[0;34m\u001b[0m\u001b[0m\n\u001b[0m\u001b[1;32m   2102\u001b[0m         )\n\u001b[1;32m   2103\u001b[0m \u001b[0;34m\u001b[0m\u001b[0m\n",
            "\u001b[0;32m/usr/local/lib/python3.7/dist-packages/pandera/schema_components.py\u001b[0m in \u001b[0;36mvalidate\u001b[0;34m(self, check_obj, head, tail, sample, random_state, lazy, inplace)\u001b[0m\n\u001b[1;32m    221\u001b[0m                     )\n\u001b[1;32m    222\u001b[0m             \u001b[0;32melse\u001b[0m\u001b[0;34m:\u001b[0m\u001b[0;34m\u001b[0m\u001b[0;34m\u001b[0m\u001b[0m\n\u001b[0;32m--> 223\u001b[0;31m                 \u001b[0mvalidate_column\u001b[0m\u001b[0;34m(\u001b[0m\u001b[0mcheck_obj\u001b[0m\u001b[0;34m,\u001b[0m \u001b[0mcolumn_name\u001b[0m\u001b[0;34m)\u001b[0m\u001b[0;34m\u001b[0m\u001b[0;34m\u001b[0m\u001b[0m\n\u001b[0m\u001b[1;32m    224\u001b[0m \u001b[0;34m\u001b[0m\u001b[0m\n\u001b[1;32m    225\u001b[0m         \u001b[0;32mreturn\u001b[0m \u001b[0mcheck_obj\u001b[0m\u001b[0;34m\u001b[0m\u001b[0;34m\u001b[0m\u001b[0m\n",
            "\u001b[0;32m/usr/local/lib/python3.7/dist-packages/pandera/schema_components.py\u001b[0m in \u001b[0;36mvalidate_column\u001b[0;34m(check_obj, column_name)\u001b[0m\n\u001b[1;32m    201\u001b[0m                 \u001b[0mrandom_state\u001b[0m\u001b[0;34m,\u001b[0m\u001b[0;34m\u001b[0m\u001b[0;34m\u001b[0m\u001b[0m\n\u001b[1;32m    202\u001b[0m                 \u001b[0mlazy\u001b[0m\u001b[0;34m,\u001b[0m\u001b[0;34m\u001b[0m\u001b[0;34m\u001b[0m\u001b[0m\n\u001b[0;32m--> 203\u001b[0;31m                 \u001b[0minplace\u001b[0m\u001b[0;34m=\u001b[0m\u001b[0minplace\u001b[0m\u001b[0;34m,\u001b[0m\u001b[0;34m\u001b[0m\u001b[0;34m\u001b[0m\u001b[0m\n\u001b[0m\u001b[1;32m    204\u001b[0m             )\n\u001b[1;32m    205\u001b[0m \u001b[0;34m\u001b[0m\u001b[0m\n",
            "\u001b[0;32m/usr/local/lib/python3.7/dist-packages/pandera/schemas.py\u001b[0m in \u001b[0;36mvalidate\u001b[0;34m(self, check_obj, head, tail, sample, random_state, lazy, inplace)\u001b[0m\n\u001b[1;32m   1965\u001b[0m                             \u001b[0mseries\u001b[0m\u001b[0;34m[\u001b[0m\u001b[0mnulls\u001b[0m\u001b[0;34m]\u001b[0m\u001b[0;34m,\u001b[0m \u001b[0mignore_na\u001b[0m\u001b[0;34m=\u001b[0m\u001b[0;32mFalse\u001b[0m\u001b[0;34m\u001b[0m\u001b[0;34m\u001b[0m\u001b[0m\n\u001b[1;32m   1966\u001b[0m                         ),\n\u001b[0;32m-> 1967\u001b[0;31m                         \u001b[0mcheck\u001b[0m\u001b[0;34m=\u001b[0m\u001b[0;34m\"not_nullable\"\u001b[0m\u001b[0;34m,\u001b[0m\u001b[0;34m\u001b[0m\u001b[0;34m\u001b[0m\u001b[0m\n\u001b[0m\u001b[1;32m   1968\u001b[0m                     ),\n\u001b[1;32m   1969\u001b[0m                 )\n",
            "\u001b[0;32m/usr/local/lib/python3.7/dist-packages/pandera/error_handlers.py\u001b[0m in \u001b[0;36mcollect_error\u001b[0;34m(self, reason_code, schema_error, original_exc)\u001b[0m\n\u001b[1;32m     30\u001b[0m         \"\"\"\n\u001b[1;32m     31\u001b[0m         \u001b[0;32mif\u001b[0m \u001b[0;32mnot\u001b[0m \u001b[0mself\u001b[0m\u001b[0;34m.\u001b[0m\u001b[0m_lazy\u001b[0m\u001b[0;34m:\u001b[0m\u001b[0;34m\u001b[0m\u001b[0;34m\u001b[0m\u001b[0m\n\u001b[0;32m---> 32\u001b[0;31m             \u001b[0;32mraise\u001b[0m \u001b[0mschema_error\u001b[0m \u001b[0;32mfrom\u001b[0m \u001b[0moriginal_exc\u001b[0m\u001b[0;34m\u001b[0m\u001b[0;34m\u001b[0m\u001b[0m\n\u001b[0m\u001b[1;32m     33\u001b[0m \u001b[0;34m\u001b[0m\u001b[0m\n\u001b[1;32m     34\u001b[0m         \u001b[0;31m# delete data of validated object from SchemaError object to prevent\u001b[0m\u001b[0;34m\u001b[0m\u001b[0;34m\u001b[0m\u001b[0;34m\u001b[0m\u001b[0m\n",
            "\u001b[0;31mSchemaError\u001b[0m: non-nullable series 'RACACOR' contains null values:\n54       NaN\n72       NaN\n73       NaN\n112      NaN\n118      NaN\n          ..\n308447   NaN\n308458   NaN\n308720   NaN\n309141   NaN\n310084   NaN\nName: RACACOR, Length: 3957, dtype: float64"
          ]
        }
      ]
    },
    {
      "cell_type": "code",
      "source": [
        "Df_senex['RACACOR'].fillna(value=0, inplace=True)\n",
        "Df_senex.info()"
      ],
      "metadata": {
        "colab": {
          "base_uri": "https://localhost:8080/"
        },
        "id": "UyupeLPAsHSW",
        "outputId": "aec6c75e-ada7-4fa1-a8be-6f647201b406"
      },
      "execution_count": 62,
      "outputs": [
        {
          "output_type": "stream",
          "name": "stdout",
          "text": [
            "<class 'pandas.core.frame.DataFrame'>\n",
            "Int64Index: 208531 entries, 0 to 311385\n",
            "Data columns (total 7 columns):\n",
            " #   Column    Non-Null Count   Dtype  \n",
            "---  ------    --------------   -----  \n",
            " 0   ESTADO    208531 non-null  object \n",
            " 1   ANO       208531 non-null  int64  \n",
            " 2   IDADE     208531 non-null  int64  \n",
            " 3   SEXO      208531 non-null  int64  \n",
            " 4   RACACOR   208531 non-null  int64  \n",
            " 5   ESTCIV    204380 non-null  float64\n",
            " 6   CAUSABAS  208531 non-null  object \n",
            "dtypes: float64(1), int64(4), object(2)\n",
            "memory usage: 20.8+ MB\n"
          ]
        },
        {
          "output_type": "stream",
          "name": "stderr",
          "text": [
            "/usr/local/lib/python3.7/dist-packages/pandas/core/generic.py:6392: SettingWithCopyWarning: \n",
            "A value is trying to be set on a copy of a slice from a DataFrame\n",
            "\n",
            "See the caveats in the documentation: https://pandas.pydata.org/pandas-docs/stable/user_guide/indexing.html#returning-a-view-versus-a-copy\n",
            "  return self._update_inplace(result)\n"
          ]
        }
      ]
    },
    {
      "cell_type": "code",
      "source": [
        "schema.validate(Df_senex)"
      ],
      "metadata": {
        "colab": {
          "base_uri": "https://localhost:8080/",
          "height": 311
        },
        "id": "WrQkFTHItmgx",
        "outputId": "db32cb6a-06c5-40d6-96ed-e61796b4e4ec"
      },
      "execution_count": 59,
      "outputs": [
        {
          "output_type": "error",
          "ename": "SchemaError",
          "evalue": "ignored",
          "traceback": [
            "\u001b[0;31m---------------------------------------------------------------------------\u001b[0m",
            "\u001b[0;31mSchemaError\u001b[0m                               Traceback (most recent call last)",
            "\u001b[0;32m<ipython-input-59-884bf637c38b>\u001b[0m in \u001b[0;36m<module>\u001b[0;34m\u001b[0m\n\u001b[0;32m----> 1\u001b[0;31m \u001b[0mschema\u001b[0m\u001b[0;34m.\u001b[0m\u001b[0mvalidate\u001b[0m\u001b[0;34m(\u001b[0m\u001b[0mDf_senex\u001b[0m\u001b[0;34m)\u001b[0m\u001b[0;34m\u001b[0m\u001b[0;34m\u001b[0m\u001b[0m\n\u001b[0m",
            "\u001b[0;32m/usr/local/lib/python3.7/dist-packages/pandera/schemas.py\u001b[0m in \u001b[0;36mvalidate\u001b[0;34m(self, check_obj, head, tail, sample, random_state, lazy, inplace)\u001b[0m\n\u001b[1;32m    534\u001b[0m             \u001b[0mrandom_state\u001b[0m\u001b[0;34m=\u001b[0m\u001b[0mrandom_state\u001b[0m\u001b[0;34m,\u001b[0m\u001b[0;34m\u001b[0m\u001b[0;34m\u001b[0m\u001b[0m\n\u001b[1;32m    535\u001b[0m             \u001b[0mlazy\u001b[0m\u001b[0;34m=\u001b[0m\u001b[0mlazy\u001b[0m\u001b[0;34m,\u001b[0m\u001b[0;34m\u001b[0m\u001b[0;34m\u001b[0m\u001b[0m\n\u001b[0;32m--> 536\u001b[0;31m             \u001b[0minplace\u001b[0m\u001b[0;34m=\u001b[0m\u001b[0minplace\u001b[0m\u001b[0;34m,\u001b[0m\u001b[0;34m\u001b[0m\u001b[0;34m\u001b[0m\u001b[0m\n\u001b[0m\u001b[1;32m    537\u001b[0m         )\n\u001b[1;32m    538\u001b[0m \u001b[0;34m\u001b[0m\u001b[0m\n",
            "\u001b[0;32m/usr/local/lib/python3.7/dist-packages/pandera/schemas.py\u001b[0m in \u001b[0;36m_validate\u001b[0;34m(self, check_obj, head, tail, sample, random_state, lazy, inplace)\u001b[0m\n\u001b[1;32m    725\u001b[0m                 \u001b[0mcheck_results\u001b[0m\u001b[0;34m.\u001b[0m\u001b[0mappend\u001b[0m\u001b[0;34m(\u001b[0m\u001b[0mcheck_utils\u001b[0m\u001b[0;34m.\u001b[0m\u001b[0mis_table\u001b[0m\u001b[0;34m(\u001b[0m\u001b[0mresult\u001b[0m\u001b[0;34m)\u001b[0m\u001b[0;34m)\u001b[0m\u001b[0;34m\u001b[0m\u001b[0;34m\u001b[0m\u001b[0m\n\u001b[1;32m    726\u001b[0m             \u001b[0;32mexcept\u001b[0m \u001b[0merrors\u001b[0m\u001b[0;34m.\u001b[0m\u001b[0mSchemaError\u001b[0m \u001b[0;32mas\u001b[0m \u001b[0merr\u001b[0m\u001b[0;34m:\u001b[0m\u001b[0;34m\u001b[0m\u001b[0;34m\u001b[0m\u001b[0m\n\u001b[0;32m--> 727\u001b[0;31m                 \u001b[0merror_handler\u001b[0m\u001b[0;34m.\u001b[0m\u001b[0mcollect_error\u001b[0m\u001b[0;34m(\u001b[0m\u001b[0;34m\"schema_component_check\"\u001b[0m\u001b[0;34m,\u001b[0m \u001b[0merr\u001b[0m\u001b[0;34m)\u001b[0m\u001b[0;34m\u001b[0m\u001b[0;34m\u001b[0m\u001b[0m\n\u001b[0m\u001b[1;32m    728\u001b[0m             \u001b[0;32mexcept\u001b[0m \u001b[0merrors\u001b[0m\u001b[0;34m.\u001b[0m\u001b[0mSchemaErrors\u001b[0m \u001b[0;32mas\u001b[0m \u001b[0merr\u001b[0m\u001b[0;34m:\u001b[0m\u001b[0;34m\u001b[0m\u001b[0;34m\u001b[0m\u001b[0m\n\u001b[1;32m    729\u001b[0m                 \u001b[0;32mfor\u001b[0m \u001b[0mschema_error_dict\u001b[0m \u001b[0;32min\u001b[0m \u001b[0merr\u001b[0m\u001b[0;34m.\u001b[0m\u001b[0mschema_errors\u001b[0m\u001b[0;34m:\u001b[0m\u001b[0;34m\u001b[0m\u001b[0;34m\u001b[0m\u001b[0m\n",
            "\u001b[0;32m/usr/local/lib/python3.7/dist-packages/pandera/error_handlers.py\u001b[0m in \u001b[0;36mcollect_error\u001b[0;34m(self, reason_code, schema_error, original_exc)\u001b[0m\n\u001b[1;32m     30\u001b[0m         \"\"\"\n\u001b[1;32m     31\u001b[0m         \u001b[0;32mif\u001b[0m \u001b[0;32mnot\u001b[0m \u001b[0mself\u001b[0m\u001b[0;34m.\u001b[0m\u001b[0m_lazy\u001b[0m\u001b[0;34m:\u001b[0m\u001b[0;34m\u001b[0m\u001b[0;34m\u001b[0m\u001b[0m\n\u001b[0;32m---> 32\u001b[0;31m             \u001b[0;32mraise\u001b[0m \u001b[0mschema_error\u001b[0m \u001b[0;32mfrom\u001b[0m \u001b[0moriginal_exc\u001b[0m\u001b[0;34m\u001b[0m\u001b[0;34m\u001b[0m\u001b[0m\n\u001b[0m\u001b[1;32m     33\u001b[0m \u001b[0;34m\u001b[0m\u001b[0m\n\u001b[1;32m     34\u001b[0m         \u001b[0;31m# delete data of validated object from SchemaError object to prevent\u001b[0m\u001b[0;34m\u001b[0m\u001b[0;34m\u001b[0m\u001b[0;34m\u001b[0m\u001b[0m\n",
            "\u001b[0;32m/usr/local/lib/python3.7/dist-packages/pandera/schemas.py\u001b[0m in \u001b[0;36m_validate\u001b[0;34m(self, check_obj, head, tail, sample, random_state, lazy, inplace)\u001b[0m\n\u001b[1;32m    721\u001b[0m                     \u001b[0mlazy\u001b[0m\u001b[0;34m=\u001b[0m\u001b[0mlazy\u001b[0m\u001b[0;34m,\u001b[0m\u001b[0;34m\u001b[0m\u001b[0;34m\u001b[0m\u001b[0m\n\u001b[1;32m    722\u001b[0m                     \u001b[0;31m# don't make a copy of the data\u001b[0m\u001b[0;34m\u001b[0m\u001b[0;34m\u001b[0m\u001b[0;34m\u001b[0m\u001b[0m\n\u001b[0;32m--> 723\u001b[0;31m                     \u001b[0minplace\u001b[0m\u001b[0;34m=\u001b[0m\u001b[0;32mTrue\u001b[0m\u001b[0;34m,\u001b[0m\u001b[0;34m\u001b[0m\u001b[0;34m\u001b[0m\u001b[0m\n\u001b[0m\u001b[1;32m    724\u001b[0m                 )\n\u001b[1;32m    725\u001b[0m                 \u001b[0mcheck_results\u001b[0m\u001b[0;34m.\u001b[0m\u001b[0mappend\u001b[0m\u001b[0;34m(\u001b[0m\u001b[0mcheck_utils\u001b[0m\u001b[0;34m.\u001b[0m\u001b[0mis_table\u001b[0m\u001b[0;34m(\u001b[0m\u001b[0mresult\u001b[0m\u001b[0;34m)\u001b[0m\u001b[0;34m)\u001b[0m\u001b[0;34m\u001b[0m\u001b[0;34m\u001b[0m\u001b[0m\n",
            "\u001b[0;32m/usr/local/lib/python3.7/dist-packages/pandera/schemas.py\u001b[0m in \u001b[0;36m__call__\u001b[0;34m(self, check_obj, head, tail, sample, random_state, lazy, inplace)\u001b[0m\n\u001b[1;32m   2099\u001b[0m         \u001b[0;34m\"\"\"Alias for ``validate`` method.\"\"\"\u001b[0m\u001b[0;34m\u001b[0m\u001b[0;34m\u001b[0m\u001b[0m\n\u001b[1;32m   2100\u001b[0m         return self.validate(\n\u001b[0;32m-> 2101\u001b[0;31m             \u001b[0mcheck_obj\u001b[0m\u001b[0;34m,\u001b[0m \u001b[0mhead\u001b[0m\u001b[0;34m,\u001b[0m \u001b[0mtail\u001b[0m\u001b[0;34m,\u001b[0m \u001b[0msample\u001b[0m\u001b[0;34m,\u001b[0m \u001b[0mrandom_state\u001b[0m\u001b[0;34m,\u001b[0m \u001b[0mlazy\u001b[0m\u001b[0;34m,\u001b[0m \u001b[0minplace\u001b[0m\u001b[0;34m\u001b[0m\u001b[0;34m\u001b[0m\u001b[0m\n\u001b[0m\u001b[1;32m   2102\u001b[0m         )\n\u001b[1;32m   2103\u001b[0m \u001b[0;34m\u001b[0m\u001b[0m\n",
            "\u001b[0;32m/usr/local/lib/python3.7/dist-packages/pandera/schema_components.py\u001b[0m in \u001b[0;36mvalidate\u001b[0;34m(self, check_obj, head, tail, sample, random_state, lazy, inplace)\u001b[0m\n\u001b[1;32m    221\u001b[0m                     )\n\u001b[1;32m    222\u001b[0m             \u001b[0;32melse\u001b[0m\u001b[0;34m:\u001b[0m\u001b[0;34m\u001b[0m\u001b[0;34m\u001b[0m\u001b[0m\n\u001b[0;32m--> 223\u001b[0;31m                 \u001b[0mvalidate_column\u001b[0m\u001b[0;34m(\u001b[0m\u001b[0mcheck_obj\u001b[0m\u001b[0;34m,\u001b[0m \u001b[0mcolumn_name\u001b[0m\u001b[0;34m)\u001b[0m\u001b[0;34m\u001b[0m\u001b[0;34m\u001b[0m\u001b[0m\n\u001b[0m\u001b[1;32m    224\u001b[0m \u001b[0;34m\u001b[0m\u001b[0m\n\u001b[1;32m    225\u001b[0m         \u001b[0;32mreturn\u001b[0m \u001b[0mcheck_obj\u001b[0m\u001b[0;34m\u001b[0m\u001b[0;34m\u001b[0m\u001b[0m\n",
            "\u001b[0;32m/usr/local/lib/python3.7/dist-packages/pandera/schema_components.py\u001b[0m in \u001b[0;36mvalidate_column\u001b[0;34m(check_obj, column_name)\u001b[0m\n\u001b[1;32m    201\u001b[0m                 \u001b[0mrandom_state\u001b[0m\u001b[0;34m,\u001b[0m\u001b[0;34m\u001b[0m\u001b[0;34m\u001b[0m\u001b[0m\n\u001b[1;32m    202\u001b[0m                 \u001b[0mlazy\u001b[0m\u001b[0;34m,\u001b[0m\u001b[0;34m\u001b[0m\u001b[0;34m\u001b[0m\u001b[0m\n\u001b[0;32m--> 203\u001b[0;31m                 \u001b[0minplace\u001b[0m\u001b[0;34m=\u001b[0m\u001b[0minplace\u001b[0m\u001b[0;34m,\u001b[0m\u001b[0;34m\u001b[0m\u001b[0;34m\u001b[0m\u001b[0m\n\u001b[0m\u001b[1;32m    204\u001b[0m             )\n\u001b[1;32m    205\u001b[0m \u001b[0;34m\u001b[0m\u001b[0m\n",
            "\u001b[0;32m/usr/local/lib/python3.7/dist-packages/pandera/schemas.py\u001b[0m in \u001b[0;36mvalidate\u001b[0;34m(self, check_obj, head, tail, sample, random_state, lazy, inplace)\u001b[0m\n\u001b[1;32m   2038\u001b[0m                         \u001b[0mmsg\u001b[0m\u001b[0;34m,\u001b[0m\u001b[0;34m\u001b[0m\u001b[0;34m\u001b[0m\u001b[0m\n\u001b[1;32m   2039\u001b[0m                         \u001b[0mfailure_cases\u001b[0m\u001b[0;34m=\u001b[0m\u001b[0mfailure_cases\u001b[0m\u001b[0;34m,\u001b[0m\u001b[0;34m\u001b[0m\u001b[0;34m\u001b[0m\u001b[0m\n\u001b[0;32m-> 2040\u001b[0;31m                         \u001b[0mcheck\u001b[0m\u001b[0;34m=\u001b[0m\u001b[0;34mf\"dtype('{self.dtype}')\"\u001b[0m\u001b[0;34m,\u001b[0m\u001b[0;34m\u001b[0m\u001b[0;34m\u001b[0m\u001b[0m\n\u001b[0m\u001b[1;32m   2041\u001b[0m                     ),\n\u001b[1;32m   2042\u001b[0m                 )\n",
            "\u001b[0;32m/usr/local/lib/python3.7/dist-packages/pandera/error_handlers.py\u001b[0m in \u001b[0;36mcollect_error\u001b[0;34m(self, reason_code, schema_error, original_exc)\u001b[0m\n\u001b[1;32m     30\u001b[0m         \"\"\"\n\u001b[1;32m     31\u001b[0m         \u001b[0;32mif\u001b[0m \u001b[0;32mnot\u001b[0m \u001b[0mself\u001b[0m\u001b[0;34m.\u001b[0m\u001b[0m_lazy\u001b[0m\u001b[0;34m:\u001b[0m\u001b[0;34m\u001b[0m\u001b[0;34m\u001b[0m\u001b[0m\n\u001b[0;32m---> 32\u001b[0;31m             \u001b[0;32mraise\u001b[0m \u001b[0mschema_error\u001b[0m \u001b[0;32mfrom\u001b[0m \u001b[0moriginal_exc\u001b[0m\u001b[0;34m\u001b[0m\u001b[0;34m\u001b[0m\u001b[0m\n\u001b[0m\u001b[1;32m     33\u001b[0m \u001b[0;34m\u001b[0m\u001b[0m\n\u001b[1;32m     34\u001b[0m         \u001b[0;31m# delete data of validated object from SchemaError object to prevent\u001b[0m\u001b[0;34m\u001b[0m\u001b[0;34m\u001b[0m\u001b[0;34m\u001b[0m\u001b[0m\n",
            "\u001b[0;31mSchemaError\u001b[0m: expected series 'RACACOR' to have type int64, got float64"
          ]
        }
      ]
    },
    {
      "cell_type": "code",
      "source": [
        "Df_senex[\"RACACOR\"] = Df_senex[\"RACACOR\"].astype(float).astype(int)"
      ],
      "metadata": {
        "colab": {
          "base_uri": "https://localhost:8080/"
        },
        "id": "tNLNvefitwed",
        "outputId": "a6f65d1b-8ef4-4dc0-a084-7d0cfdbf652e"
      },
      "execution_count": 63,
      "outputs": [
        {
          "output_type": "stream",
          "name": "stderr",
          "text": [
            "/usr/local/lib/python3.7/dist-packages/ipykernel_launcher.py:1: SettingWithCopyWarning: \n",
            "A value is trying to be set on a copy of a slice from a DataFrame.\n",
            "Try using .loc[row_indexer,col_indexer] = value instead\n",
            "\n",
            "See the caveats in the documentation: https://pandas.pydata.org/pandas-docs/stable/user_guide/indexing.html#returning-a-view-versus-a-copy\n",
            "  \"\"\"Entry point for launching an IPython kernel.\n"
          ]
        }
      ]
    },
    {
      "cell_type": "code",
      "source": [
        "schema.validate(Df_senex)"
      ],
      "metadata": {
        "colab": {
          "base_uri": "https://localhost:8080/",
          "height": 519
        },
        "id": "-wOUfZzcuP3p",
        "outputId": "3f43f596-a139-4244-cb9d-db678e7202e9"
      },
      "execution_count": 64,
      "outputs": [
        {
          "output_type": "error",
          "ename": "SchemaError",
          "evalue": "ignored",
          "traceback": [
            "\u001b[0;31m---------------------------------------------------------------------------\u001b[0m",
            "\u001b[0;31mSchemaError\u001b[0m                               Traceback (most recent call last)",
            "\u001b[0;32m<ipython-input-64-884bf637c38b>\u001b[0m in \u001b[0;36m<module>\u001b[0;34m\u001b[0m\n\u001b[0;32m----> 1\u001b[0;31m \u001b[0mschema\u001b[0m\u001b[0;34m.\u001b[0m\u001b[0mvalidate\u001b[0m\u001b[0;34m(\u001b[0m\u001b[0mDf_senex\u001b[0m\u001b[0;34m)\u001b[0m\u001b[0;34m\u001b[0m\u001b[0;34m\u001b[0m\u001b[0m\n\u001b[0m",
            "\u001b[0;32m/usr/local/lib/python3.7/dist-packages/pandera/schemas.py\u001b[0m in \u001b[0;36mvalidate\u001b[0;34m(self, check_obj, head, tail, sample, random_state, lazy, inplace)\u001b[0m\n\u001b[1;32m    534\u001b[0m             \u001b[0mrandom_state\u001b[0m\u001b[0;34m=\u001b[0m\u001b[0mrandom_state\u001b[0m\u001b[0;34m,\u001b[0m\u001b[0;34m\u001b[0m\u001b[0;34m\u001b[0m\u001b[0m\n\u001b[1;32m    535\u001b[0m             \u001b[0mlazy\u001b[0m\u001b[0;34m=\u001b[0m\u001b[0mlazy\u001b[0m\u001b[0;34m,\u001b[0m\u001b[0;34m\u001b[0m\u001b[0;34m\u001b[0m\u001b[0m\n\u001b[0;32m--> 536\u001b[0;31m             \u001b[0minplace\u001b[0m\u001b[0;34m=\u001b[0m\u001b[0minplace\u001b[0m\u001b[0;34m,\u001b[0m\u001b[0;34m\u001b[0m\u001b[0;34m\u001b[0m\u001b[0m\n\u001b[0m\u001b[1;32m    537\u001b[0m         )\n\u001b[1;32m    538\u001b[0m \u001b[0;34m\u001b[0m\u001b[0m\n",
            "\u001b[0;32m/usr/local/lib/python3.7/dist-packages/pandera/schemas.py\u001b[0m in \u001b[0;36m_validate\u001b[0;34m(self, check_obj, head, tail, sample, random_state, lazy, inplace)\u001b[0m\n\u001b[1;32m    725\u001b[0m                 \u001b[0mcheck_results\u001b[0m\u001b[0;34m.\u001b[0m\u001b[0mappend\u001b[0m\u001b[0;34m(\u001b[0m\u001b[0mcheck_utils\u001b[0m\u001b[0;34m.\u001b[0m\u001b[0mis_table\u001b[0m\u001b[0;34m(\u001b[0m\u001b[0mresult\u001b[0m\u001b[0;34m)\u001b[0m\u001b[0;34m)\u001b[0m\u001b[0;34m\u001b[0m\u001b[0;34m\u001b[0m\u001b[0m\n\u001b[1;32m    726\u001b[0m             \u001b[0;32mexcept\u001b[0m \u001b[0merrors\u001b[0m\u001b[0;34m.\u001b[0m\u001b[0mSchemaError\u001b[0m \u001b[0;32mas\u001b[0m \u001b[0merr\u001b[0m\u001b[0;34m:\u001b[0m\u001b[0;34m\u001b[0m\u001b[0;34m\u001b[0m\u001b[0m\n\u001b[0;32m--> 727\u001b[0;31m                 \u001b[0merror_handler\u001b[0m\u001b[0;34m.\u001b[0m\u001b[0mcollect_error\u001b[0m\u001b[0;34m(\u001b[0m\u001b[0;34m\"schema_component_check\"\u001b[0m\u001b[0;34m,\u001b[0m \u001b[0merr\u001b[0m\u001b[0;34m)\u001b[0m\u001b[0;34m\u001b[0m\u001b[0;34m\u001b[0m\u001b[0m\n\u001b[0m\u001b[1;32m    728\u001b[0m             \u001b[0;32mexcept\u001b[0m \u001b[0merrors\u001b[0m\u001b[0;34m.\u001b[0m\u001b[0mSchemaErrors\u001b[0m \u001b[0;32mas\u001b[0m \u001b[0merr\u001b[0m\u001b[0;34m:\u001b[0m\u001b[0;34m\u001b[0m\u001b[0;34m\u001b[0m\u001b[0m\n\u001b[1;32m    729\u001b[0m                 \u001b[0;32mfor\u001b[0m \u001b[0mschema_error_dict\u001b[0m \u001b[0;32min\u001b[0m \u001b[0merr\u001b[0m\u001b[0;34m.\u001b[0m\u001b[0mschema_errors\u001b[0m\u001b[0;34m:\u001b[0m\u001b[0;34m\u001b[0m\u001b[0;34m\u001b[0m\u001b[0m\n",
            "\u001b[0;32m/usr/local/lib/python3.7/dist-packages/pandera/error_handlers.py\u001b[0m in \u001b[0;36mcollect_error\u001b[0;34m(self, reason_code, schema_error, original_exc)\u001b[0m\n\u001b[1;32m     30\u001b[0m         \"\"\"\n\u001b[1;32m     31\u001b[0m         \u001b[0;32mif\u001b[0m \u001b[0;32mnot\u001b[0m \u001b[0mself\u001b[0m\u001b[0;34m.\u001b[0m\u001b[0m_lazy\u001b[0m\u001b[0;34m:\u001b[0m\u001b[0;34m\u001b[0m\u001b[0;34m\u001b[0m\u001b[0m\n\u001b[0;32m---> 32\u001b[0;31m             \u001b[0;32mraise\u001b[0m \u001b[0mschema_error\u001b[0m \u001b[0;32mfrom\u001b[0m \u001b[0moriginal_exc\u001b[0m\u001b[0;34m\u001b[0m\u001b[0;34m\u001b[0m\u001b[0m\n\u001b[0m\u001b[1;32m     33\u001b[0m \u001b[0;34m\u001b[0m\u001b[0m\n\u001b[1;32m     34\u001b[0m         \u001b[0;31m# delete data of validated object from SchemaError object to prevent\u001b[0m\u001b[0;34m\u001b[0m\u001b[0;34m\u001b[0m\u001b[0;34m\u001b[0m\u001b[0m\n",
            "\u001b[0;32m/usr/local/lib/python3.7/dist-packages/pandera/schemas.py\u001b[0m in \u001b[0;36m_validate\u001b[0;34m(self, check_obj, head, tail, sample, random_state, lazy, inplace)\u001b[0m\n\u001b[1;32m    721\u001b[0m                     \u001b[0mlazy\u001b[0m\u001b[0;34m=\u001b[0m\u001b[0mlazy\u001b[0m\u001b[0;34m,\u001b[0m\u001b[0;34m\u001b[0m\u001b[0;34m\u001b[0m\u001b[0m\n\u001b[1;32m    722\u001b[0m                     \u001b[0;31m# don't make a copy of the data\u001b[0m\u001b[0;34m\u001b[0m\u001b[0;34m\u001b[0m\u001b[0;34m\u001b[0m\u001b[0m\n\u001b[0;32m--> 723\u001b[0;31m                     \u001b[0minplace\u001b[0m\u001b[0;34m=\u001b[0m\u001b[0;32mTrue\u001b[0m\u001b[0;34m,\u001b[0m\u001b[0;34m\u001b[0m\u001b[0;34m\u001b[0m\u001b[0m\n\u001b[0m\u001b[1;32m    724\u001b[0m                 )\n\u001b[1;32m    725\u001b[0m                 \u001b[0mcheck_results\u001b[0m\u001b[0;34m.\u001b[0m\u001b[0mappend\u001b[0m\u001b[0;34m(\u001b[0m\u001b[0mcheck_utils\u001b[0m\u001b[0;34m.\u001b[0m\u001b[0mis_table\u001b[0m\u001b[0;34m(\u001b[0m\u001b[0mresult\u001b[0m\u001b[0;34m)\u001b[0m\u001b[0;34m)\u001b[0m\u001b[0;34m\u001b[0m\u001b[0;34m\u001b[0m\u001b[0m\n",
            "\u001b[0;32m/usr/local/lib/python3.7/dist-packages/pandera/schemas.py\u001b[0m in \u001b[0;36m__call__\u001b[0;34m(self, check_obj, head, tail, sample, random_state, lazy, inplace)\u001b[0m\n\u001b[1;32m   2099\u001b[0m         \u001b[0;34m\"\"\"Alias for ``validate`` method.\"\"\"\u001b[0m\u001b[0;34m\u001b[0m\u001b[0;34m\u001b[0m\u001b[0m\n\u001b[1;32m   2100\u001b[0m         return self.validate(\n\u001b[0;32m-> 2101\u001b[0;31m             \u001b[0mcheck_obj\u001b[0m\u001b[0;34m,\u001b[0m \u001b[0mhead\u001b[0m\u001b[0;34m,\u001b[0m \u001b[0mtail\u001b[0m\u001b[0;34m,\u001b[0m \u001b[0msample\u001b[0m\u001b[0;34m,\u001b[0m \u001b[0mrandom_state\u001b[0m\u001b[0;34m,\u001b[0m \u001b[0mlazy\u001b[0m\u001b[0;34m,\u001b[0m \u001b[0minplace\u001b[0m\u001b[0;34m\u001b[0m\u001b[0;34m\u001b[0m\u001b[0m\n\u001b[0m\u001b[1;32m   2102\u001b[0m         )\n\u001b[1;32m   2103\u001b[0m \u001b[0;34m\u001b[0m\u001b[0m\n",
            "\u001b[0;32m/usr/local/lib/python3.7/dist-packages/pandera/schema_components.py\u001b[0m in \u001b[0;36mvalidate\u001b[0;34m(self, check_obj, head, tail, sample, random_state, lazy, inplace)\u001b[0m\n\u001b[1;32m    221\u001b[0m                     )\n\u001b[1;32m    222\u001b[0m             \u001b[0;32melse\u001b[0m\u001b[0;34m:\u001b[0m\u001b[0;34m\u001b[0m\u001b[0;34m\u001b[0m\u001b[0m\n\u001b[0;32m--> 223\u001b[0;31m                 \u001b[0mvalidate_column\u001b[0m\u001b[0;34m(\u001b[0m\u001b[0mcheck_obj\u001b[0m\u001b[0;34m,\u001b[0m \u001b[0mcolumn_name\u001b[0m\u001b[0;34m)\u001b[0m\u001b[0;34m\u001b[0m\u001b[0;34m\u001b[0m\u001b[0m\n\u001b[0m\u001b[1;32m    224\u001b[0m \u001b[0;34m\u001b[0m\u001b[0m\n\u001b[1;32m    225\u001b[0m         \u001b[0;32mreturn\u001b[0m \u001b[0mcheck_obj\u001b[0m\u001b[0;34m\u001b[0m\u001b[0;34m\u001b[0m\u001b[0m\n",
            "\u001b[0;32m/usr/local/lib/python3.7/dist-packages/pandera/schema_components.py\u001b[0m in \u001b[0;36mvalidate_column\u001b[0;34m(check_obj, column_name)\u001b[0m\n\u001b[1;32m    201\u001b[0m                 \u001b[0mrandom_state\u001b[0m\u001b[0;34m,\u001b[0m\u001b[0;34m\u001b[0m\u001b[0;34m\u001b[0m\u001b[0m\n\u001b[1;32m    202\u001b[0m                 \u001b[0mlazy\u001b[0m\u001b[0;34m,\u001b[0m\u001b[0;34m\u001b[0m\u001b[0;34m\u001b[0m\u001b[0m\n\u001b[0;32m--> 203\u001b[0;31m                 \u001b[0minplace\u001b[0m\u001b[0;34m=\u001b[0m\u001b[0minplace\u001b[0m\u001b[0;34m,\u001b[0m\u001b[0;34m\u001b[0m\u001b[0;34m\u001b[0m\u001b[0m\n\u001b[0m\u001b[1;32m    204\u001b[0m             )\n\u001b[1;32m    205\u001b[0m \u001b[0;34m\u001b[0m\u001b[0m\n",
            "\u001b[0;32m/usr/local/lib/python3.7/dist-packages/pandera/schemas.py\u001b[0m in \u001b[0;36mvalidate\u001b[0;34m(self, check_obj, head, tail, sample, random_state, lazy, inplace)\u001b[0m\n\u001b[1;32m   1965\u001b[0m                             \u001b[0mseries\u001b[0m\u001b[0;34m[\u001b[0m\u001b[0mnulls\u001b[0m\u001b[0;34m]\u001b[0m\u001b[0;34m,\u001b[0m \u001b[0mignore_na\u001b[0m\u001b[0;34m=\u001b[0m\u001b[0;32mFalse\u001b[0m\u001b[0;34m\u001b[0m\u001b[0;34m\u001b[0m\u001b[0m\n\u001b[1;32m   1966\u001b[0m                         ),\n\u001b[0;32m-> 1967\u001b[0;31m                         \u001b[0mcheck\u001b[0m\u001b[0;34m=\u001b[0m\u001b[0;34m\"not_nullable\"\u001b[0m\u001b[0;34m,\u001b[0m\u001b[0;34m\u001b[0m\u001b[0;34m\u001b[0m\u001b[0m\n\u001b[0m\u001b[1;32m   1968\u001b[0m                     ),\n\u001b[1;32m   1969\u001b[0m                 )\n",
            "\u001b[0;32m/usr/local/lib/python3.7/dist-packages/pandera/error_handlers.py\u001b[0m in \u001b[0;36mcollect_error\u001b[0;34m(self, reason_code, schema_error, original_exc)\u001b[0m\n\u001b[1;32m     30\u001b[0m         \"\"\"\n\u001b[1;32m     31\u001b[0m         \u001b[0;32mif\u001b[0m \u001b[0;32mnot\u001b[0m \u001b[0mself\u001b[0m\u001b[0;34m.\u001b[0m\u001b[0m_lazy\u001b[0m\u001b[0;34m:\u001b[0m\u001b[0;34m\u001b[0m\u001b[0;34m\u001b[0m\u001b[0m\n\u001b[0;32m---> 32\u001b[0;31m             \u001b[0;32mraise\u001b[0m \u001b[0mschema_error\u001b[0m \u001b[0;32mfrom\u001b[0m \u001b[0moriginal_exc\u001b[0m\u001b[0;34m\u001b[0m\u001b[0;34m\u001b[0m\u001b[0m\n\u001b[0m\u001b[1;32m     33\u001b[0m \u001b[0;34m\u001b[0m\u001b[0m\n\u001b[1;32m     34\u001b[0m         \u001b[0;31m# delete data of validated object from SchemaError object to prevent\u001b[0m\u001b[0;34m\u001b[0m\u001b[0;34m\u001b[0m\u001b[0;34m\u001b[0m\u001b[0m\n",
            "\u001b[0;31mSchemaError\u001b[0m: non-nullable series 'ESTCIV' contains null values:\n54       NaN\n73       NaN\n76       NaN\n86       NaN\n91       NaN\n          ..\n308948   NaN\n310094   NaN\n311310   NaN\n311316   NaN\n311322   NaN\nName: ESTCIV, Length: 4151, dtype: float64"
          ]
        }
      ]
    },
    {
      "cell_type": "code",
      "source": [
        "Df_senex['ESTCIV'].fillna(value=0, inplace=True)\n",
        "Df_senex.info()"
      ],
      "metadata": {
        "colab": {
          "base_uri": "https://localhost:8080/"
        },
        "id": "i_SZ1jhSuc4J",
        "outputId": "2388c06c-f947-4e7c-c2b1-de2b4c172a82"
      },
      "execution_count": 66,
      "outputs": [
        {
          "output_type": "stream",
          "name": "stdout",
          "text": [
            "<class 'pandas.core.frame.DataFrame'>\n",
            "Int64Index: 208531 entries, 0 to 311385\n",
            "Data columns (total 7 columns):\n",
            " #   Column    Non-Null Count   Dtype  \n",
            "---  ------    --------------   -----  \n",
            " 0   ESTADO    208531 non-null  object \n",
            " 1   ANO       208531 non-null  int64  \n",
            " 2   IDADE     208531 non-null  int64  \n",
            " 3   SEXO      208531 non-null  int64  \n",
            " 4   RACACOR   208531 non-null  int64  \n",
            " 5   ESTCIV    208531 non-null  float64\n",
            " 6   CAUSABAS  208531 non-null  object \n",
            "dtypes: float64(1), int64(4), object(2)\n",
            "memory usage: 20.8+ MB\n"
          ]
        }
      ]
    },
    {
      "cell_type": "code",
      "source": [
        "schema.validate(Df_senex)"
      ],
      "metadata": {
        "colab": {
          "base_uri": "https://localhost:8080/",
          "height": 311
        },
        "id": "gO3bYN86ukQc",
        "outputId": "3e905e49-4cf1-40ab-d179-7d496fd32493"
      },
      "execution_count": 67,
      "outputs": [
        {
          "output_type": "error",
          "ename": "SchemaError",
          "evalue": "ignored",
          "traceback": [
            "\u001b[0;31m---------------------------------------------------------------------------\u001b[0m",
            "\u001b[0;31mSchemaError\u001b[0m                               Traceback (most recent call last)",
            "\u001b[0;32m<ipython-input-67-884bf637c38b>\u001b[0m in \u001b[0;36m<module>\u001b[0;34m\u001b[0m\n\u001b[0;32m----> 1\u001b[0;31m \u001b[0mschema\u001b[0m\u001b[0;34m.\u001b[0m\u001b[0mvalidate\u001b[0m\u001b[0;34m(\u001b[0m\u001b[0mDf_senex\u001b[0m\u001b[0;34m)\u001b[0m\u001b[0;34m\u001b[0m\u001b[0;34m\u001b[0m\u001b[0m\n\u001b[0m",
            "\u001b[0;32m/usr/local/lib/python3.7/dist-packages/pandera/schemas.py\u001b[0m in \u001b[0;36mvalidate\u001b[0;34m(self, check_obj, head, tail, sample, random_state, lazy, inplace)\u001b[0m\n\u001b[1;32m    534\u001b[0m             \u001b[0mrandom_state\u001b[0m\u001b[0;34m=\u001b[0m\u001b[0mrandom_state\u001b[0m\u001b[0;34m,\u001b[0m\u001b[0;34m\u001b[0m\u001b[0;34m\u001b[0m\u001b[0m\n\u001b[1;32m    535\u001b[0m             \u001b[0mlazy\u001b[0m\u001b[0;34m=\u001b[0m\u001b[0mlazy\u001b[0m\u001b[0;34m,\u001b[0m\u001b[0;34m\u001b[0m\u001b[0;34m\u001b[0m\u001b[0m\n\u001b[0;32m--> 536\u001b[0;31m             \u001b[0minplace\u001b[0m\u001b[0;34m=\u001b[0m\u001b[0minplace\u001b[0m\u001b[0;34m,\u001b[0m\u001b[0;34m\u001b[0m\u001b[0;34m\u001b[0m\u001b[0m\n\u001b[0m\u001b[1;32m    537\u001b[0m         )\n\u001b[1;32m    538\u001b[0m \u001b[0;34m\u001b[0m\u001b[0m\n",
            "\u001b[0;32m/usr/local/lib/python3.7/dist-packages/pandera/schemas.py\u001b[0m in \u001b[0;36m_validate\u001b[0;34m(self, check_obj, head, tail, sample, random_state, lazy, inplace)\u001b[0m\n\u001b[1;32m    725\u001b[0m                 \u001b[0mcheck_results\u001b[0m\u001b[0;34m.\u001b[0m\u001b[0mappend\u001b[0m\u001b[0;34m(\u001b[0m\u001b[0mcheck_utils\u001b[0m\u001b[0;34m.\u001b[0m\u001b[0mis_table\u001b[0m\u001b[0;34m(\u001b[0m\u001b[0mresult\u001b[0m\u001b[0;34m)\u001b[0m\u001b[0;34m)\u001b[0m\u001b[0;34m\u001b[0m\u001b[0;34m\u001b[0m\u001b[0m\n\u001b[1;32m    726\u001b[0m             \u001b[0;32mexcept\u001b[0m \u001b[0merrors\u001b[0m\u001b[0;34m.\u001b[0m\u001b[0mSchemaError\u001b[0m \u001b[0;32mas\u001b[0m \u001b[0merr\u001b[0m\u001b[0;34m:\u001b[0m\u001b[0;34m\u001b[0m\u001b[0;34m\u001b[0m\u001b[0m\n\u001b[0;32m--> 727\u001b[0;31m                 \u001b[0merror_handler\u001b[0m\u001b[0;34m.\u001b[0m\u001b[0mcollect_error\u001b[0m\u001b[0;34m(\u001b[0m\u001b[0;34m\"schema_component_check\"\u001b[0m\u001b[0;34m,\u001b[0m \u001b[0merr\u001b[0m\u001b[0;34m)\u001b[0m\u001b[0;34m\u001b[0m\u001b[0;34m\u001b[0m\u001b[0m\n\u001b[0m\u001b[1;32m    728\u001b[0m             \u001b[0;32mexcept\u001b[0m \u001b[0merrors\u001b[0m\u001b[0;34m.\u001b[0m\u001b[0mSchemaErrors\u001b[0m \u001b[0;32mas\u001b[0m \u001b[0merr\u001b[0m\u001b[0;34m:\u001b[0m\u001b[0;34m\u001b[0m\u001b[0;34m\u001b[0m\u001b[0m\n\u001b[1;32m    729\u001b[0m                 \u001b[0;32mfor\u001b[0m \u001b[0mschema_error_dict\u001b[0m \u001b[0;32min\u001b[0m \u001b[0merr\u001b[0m\u001b[0;34m.\u001b[0m\u001b[0mschema_errors\u001b[0m\u001b[0;34m:\u001b[0m\u001b[0;34m\u001b[0m\u001b[0;34m\u001b[0m\u001b[0m\n",
            "\u001b[0;32m/usr/local/lib/python3.7/dist-packages/pandera/error_handlers.py\u001b[0m in \u001b[0;36mcollect_error\u001b[0;34m(self, reason_code, schema_error, original_exc)\u001b[0m\n\u001b[1;32m     30\u001b[0m         \"\"\"\n\u001b[1;32m     31\u001b[0m         \u001b[0;32mif\u001b[0m \u001b[0;32mnot\u001b[0m \u001b[0mself\u001b[0m\u001b[0;34m.\u001b[0m\u001b[0m_lazy\u001b[0m\u001b[0;34m:\u001b[0m\u001b[0;34m\u001b[0m\u001b[0;34m\u001b[0m\u001b[0m\n\u001b[0;32m---> 32\u001b[0;31m             \u001b[0;32mraise\u001b[0m \u001b[0mschema_error\u001b[0m \u001b[0;32mfrom\u001b[0m \u001b[0moriginal_exc\u001b[0m\u001b[0;34m\u001b[0m\u001b[0;34m\u001b[0m\u001b[0m\n\u001b[0m\u001b[1;32m     33\u001b[0m \u001b[0;34m\u001b[0m\u001b[0m\n\u001b[1;32m     34\u001b[0m         \u001b[0;31m# delete data of validated object from SchemaError object to prevent\u001b[0m\u001b[0;34m\u001b[0m\u001b[0;34m\u001b[0m\u001b[0;34m\u001b[0m\u001b[0m\n",
            "\u001b[0;32m/usr/local/lib/python3.7/dist-packages/pandera/schemas.py\u001b[0m in \u001b[0;36m_validate\u001b[0;34m(self, check_obj, head, tail, sample, random_state, lazy, inplace)\u001b[0m\n\u001b[1;32m    721\u001b[0m                     \u001b[0mlazy\u001b[0m\u001b[0;34m=\u001b[0m\u001b[0mlazy\u001b[0m\u001b[0;34m,\u001b[0m\u001b[0;34m\u001b[0m\u001b[0;34m\u001b[0m\u001b[0m\n\u001b[1;32m    722\u001b[0m                     \u001b[0;31m# don't make a copy of the data\u001b[0m\u001b[0;34m\u001b[0m\u001b[0;34m\u001b[0m\u001b[0;34m\u001b[0m\u001b[0m\n\u001b[0;32m--> 723\u001b[0;31m                     \u001b[0minplace\u001b[0m\u001b[0;34m=\u001b[0m\u001b[0;32mTrue\u001b[0m\u001b[0;34m,\u001b[0m\u001b[0;34m\u001b[0m\u001b[0;34m\u001b[0m\u001b[0m\n\u001b[0m\u001b[1;32m    724\u001b[0m                 )\n\u001b[1;32m    725\u001b[0m                 \u001b[0mcheck_results\u001b[0m\u001b[0;34m.\u001b[0m\u001b[0mappend\u001b[0m\u001b[0;34m(\u001b[0m\u001b[0mcheck_utils\u001b[0m\u001b[0;34m.\u001b[0m\u001b[0mis_table\u001b[0m\u001b[0;34m(\u001b[0m\u001b[0mresult\u001b[0m\u001b[0;34m)\u001b[0m\u001b[0;34m)\u001b[0m\u001b[0;34m\u001b[0m\u001b[0;34m\u001b[0m\u001b[0m\n",
            "\u001b[0;32m/usr/local/lib/python3.7/dist-packages/pandera/schemas.py\u001b[0m in \u001b[0;36m__call__\u001b[0;34m(self, check_obj, head, tail, sample, random_state, lazy, inplace)\u001b[0m\n\u001b[1;32m   2099\u001b[0m         \u001b[0;34m\"\"\"Alias for ``validate`` method.\"\"\"\u001b[0m\u001b[0;34m\u001b[0m\u001b[0;34m\u001b[0m\u001b[0m\n\u001b[1;32m   2100\u001b[0m         return self.validate(\n\u001b[0;32m-> 2101\u001b[0;31m             \u001b[0mcheck_obj\u001b[0m\u001b[0;34m,\u001b[0m \u001b[0mhead\u001b[0m\u001b[0;34m,\u001b[0m \u001b[0mtail\u001b[0m\u001b[0;34m,\u001b[0m \u001b[0msample\u001b[0m\u001b[0;34m,\u001b[0m \u001b[0mrandom_state\u001b[0m\u001b[0;34m,\u001b[0m \u001b[0mlazy\u001b[0m\u001b[0;34m,\u001b[0m \u001b[0minplace\u001b[0m\u001b[0;34m\u001b[0m\u001b[0;34m\u001b[0m\u001b[0m\n\u001b[0m\u001b[1;32m   2102\u001b[0m         )\n\u001b[1;32m   2103\u001b[0m \u001b[0;34m\u001b[0m\u001b[0m\n",
            "\u001b[0;32m/usr/local/lib/python3.7/dist-packages/pandera/schema_components.py\u001b[0m in \u001b[0;36mvalidate\u001b[0;34m(self, check_obj, head, tail, sample, random_state, lazy, inplace)\u001b[0m\n\u001b[1;32m    221\u001b[0m                     )\n\u001b[1;32m    222\u001b[0m             \u001b[0;32melse\u001b[0m\u001b[0;34m:\u001b[0m\u001b[0;34m\u001b[0m\u001b[0;34m\u001b[0m\u001b[0m\n\u001b[0;32m--> 223\u001b[0;31m                 \u001b[0mvalidate_column\u001b[0m\u001b[0;34m(\u001b[0m\u001b[0mcheck_obj\u001b[0m\u001b[0;34m,\u001b[0m \u001b[0mcolumn_name\u001b[0m\u001b[0;34m)\u001b[0m\u001b[0;34m\u001b[0m\u001b[0;34m\u001b[0m\u001b[0m\n\u001b[0m\u001b[1;32m    224\u001b[0m \u001b[0;34m\u001b[0m\u001b[0m\n\u001b[1;32m    225\u001b[0m         \u001b[0;32mreturn\u001b[0m \u001b[0mcheck_obj\u001b[0m\u001b[0;34m\u001b[0m\u001b[0;34m\u001b[0m\u001b[0m\n",
            "\u001b[0;32m/usr/local/lib/python3.7/dist-packages/pandera/schema_components.py\u001b[0m in \u001b[0;36mvalidate_column\u001b[0;34m(check_obj, column_name)\u001b[0m\n\u001b[1;32m    201\u001b[0m                 \u001b[0mrandom_state\u001b[0m\u001b[0;34m,\u001b[0m\u001b[0;34m\u001b[0m\u001b[0;34m\u001b[0m\u001b[0m\n\u001b[1;32m    202\u001b[0m                 \u001b[0mlazy\u001b[0m\u001b[0;34m,\u001b[0m\u001b[0;34m\u001b[0m\u001b[0;34m\u001b[0m\u001b[0m\n\u001b[0;32m--> 203\u001b[0;31m                 \u001b[0minplace\u001b[0m\u001b[0;34m=\u001b[0m\u001b[0minplace\u001b[0m\u001b[0;34m,\u001b[0m\u001b[0;34m\u001b[0m\u001b[0;34m\u001b[0m\u001b[0m\n\u001b[0m\u001b[1;32m    204\u001b[0m             )\n\u001b[1;32m    205\u001b[0m \u001b[0;34m\u001b[0m\u001b[0m\n",
            "\u001b[0;32m/usr/local/lib/python3.7/dist-packages/pandera/schemas.py\u001b[0m in \u001b[0;36mvalidate\u001b[0;34m(self, check_obj, head, tail, sample, random_state, lazy, inplace)\u001b[0m\n\u001b[1;32m   2038\u001b[0m                         \u001b[0mmsg\u001b[0m\u001b[0;34m,\u001b[0m\u001b[0;34m\u001b[0m\u001b[0;34m\u001b[0m\u001b[0m\n\u001b[1;32m   2039\u001b[0m                         \u001b[0mfailure_cases\u001b[0m\u001b[0;34m=\u001b[0m\u001b[0mfailure_cases\u001b[0m\u001b[0;34m,\u001b[0m\u001b[0;34m\u001b[0m\u001b[0;34m\u001b[0m\u001b[0m\n\u001b[0;32m-> 2040\u001b[0;31m                         \u001b[0mcheck\u001b[0m\u001b[0;34m=\u001b[0m\u001b[0;34mf\"dtype('{self.dtype}')\"\u001b[0m\u001b[0;34m,\u001b[0m\u001b[0;34m\u001b[0m\u001b[0;34m\u001b[0m\u001b[0m\n\u001b[0m\u001b[1;32m   2041\u001b[0m                     ),\n\u001b[1;32m   2042\u001b[0m                 )\n",
            "\u001b[0;32m/usr/local/lib/python3.7/dist-packages/pandera/error_handlers.py\u001b[0m in \u001b[0;36mcollect_error\u001b[0;34m(self, reason_code, schema_error, original_exc)\u001b[0m\n\u001b[1;32m     30\u001b[0m         \"\"\"\n\u001b[1;32m     31\u001b[0m         \u001b[0;32mif\u001b[0m \u001b[0;32mnot\u001b[0m \u001b[0mself\u001b[0m\u001b[0;34m.\u001b[0m\u001b[0m_lazy\u001b[0m\u001b[0;34m:\u001b[0m\u001b[0;34m\u001b[0m\u001b[0;34m\u001b[0m\u001b[0m\n\u001b[0;32m---> 32\u001b[0;31m             \u001b[0;32mraise\u001b[0m \u001b[0mschema_error\u001b[0m \u001b[0;32mfrom\u001b[0m \u001b[0moriginal_exc\u001b[0m\u001b[0;34m\u001b[0m\u001b[0;34m\u001b[0m\u001b[0m\n\u001b[0m\u001b[1;32m     33\u001b[0m \u001b[0;34m\u001b[0m\u001b[0m\n\u001b[1;32m     34\u001b[0m         \u001b[0;31m# delete data of validated object from SchemaError object to prevent\u001b[0m\u001b[0;34m\u001b[0m\u001b[0;34m\u001b[0m\u001b[0;34m\u001b[0m\u001b[0m\n",
            "\u001b[0;31mSchemaError\u001b[0m: expected series 'ESTCIV' to have type int64, got float64"
          ]
        }
      ]
    },
    {
      "cell_type": "code",
      "source": [
        "Df_senex['ESTCIV'] = Df_senex['ESTCIV'].astype(float).astype(int)"
      ],
      "metadata": {
        "colab": {
          "base_uri": "https://localhost:8080/"
        },
        "id": "JQc7t5B1uqkE",
        "outputId": "8c8e8451-f757-425d-b652-dfbd37481bd3"
      },
      "execution_count": 68,
      "outputs": [
        {
          "output_type": "stream",
          "name": "stderr",
          "text": [
            "/usr/local/lib/python3.7/dist-packages/ipykernel_launcher.py:1: SettingWithCopyWarning: \n",
            "A value is trying to be set on a copy of a slice from a DataFrame.\n",
            "Try using .loc[row_indexer,col_indexer] = value instead\n",
            "\n",
            "See the caveats in the documentation: https://pandas.pydata.org/pandas-docs/stable/user_guide/indexing.html#returning-a-view-versus-a-copy\n",
            "  \"\"\"Entry point for launching an IPython kernel.\n"
          ]
        }
      ]
    },
    {
      "cell_type": "code",
      "source": [
        "schema.validate(Df_senex) #como retornou o dataframe, significa que agora ele está devidamente tratado"
      ],
      "metadata": {
        "colab": {
          "base_uri": "https://localhost:8080/",
          "height": 424
        },
        "id": "A2fWuHvgu94s",
        "outputId": "fd05e149-f5b8-41b0-cde7-a46d68100d45"
      },
      "execution_count": 69,
      "outputs": [
        {
          "output_type": "execute_result",
          "data": {
            "text/plain": [
              "       ESTADO   ANO  IDADE  SEXO  RACACOR  ESTCIV CAUSABAS\n",
              "0          SC  2010     91     1        1       2      C61\n",
              "1          SC  2010     80     1        1       2     I500\n",
              "2          SC  2010     79     2        1       3     I500\n",
              "3          SC  2010     63     1        1       2     C710\n",
              "4          SC  2010     68     2        1       2     C349\n",
              "...       ...   ...    ...   ...      ...     ...      ...\n",
              "311381     SC  2018     83     2        1       3     I429\n",
              "311382     SC  2018     66     1        4       1     K769\n",
              "311383     SC  2018     84     1        1       2     K921\n",
              "311384     SC  2018     85     2        1       3     I219\n",
              "311385     SC  2018     69     2        1       3     C189\n",
              "\n",
              "[208531 rows x 7 columns]"
            ],
            "text/html": [
              "\n",
              "  <div id=\"df-40367fe6-7aca-4a14-95f4-2aa67be2d69f\">\n",
              "    <div class=\"colab-df-container\">\n",
              "      <div>\n",
              "<style scoped>\n",
              "    .dataframe tbody tr th:only-of-type {\n",
              "        vertical-align: middle;\n",
              "    }\n",
              "\n",
              "    .dataframe tbody tr th {\n",
              "        vertical-align: top;\n",
              "    }\n",
              "\n",
              "    .dataframe thead th {\n",
              "        text-align: right;\n",
              "    }\n",
              "</style>\n",
              "<table border=\"1\" class=\"dataframe\">\n",
              "  <thead>\n",
              "    <tr style=\"text-align: right;\">\n",
              "      <th></th>\n",
              "      <th>ESTADO</th>\n",
              "      <th>ANO</th>\n",
              "      <th>IDADE</th>\n",
              "      <th>SEXO</th>\n",
              "      <th>RACACOR</th>\n",
              "      <th>ESTCIV</th>\n",
              "      <th>CAUSABAS</th>\n",
              "    </tr>\n",
              "  </thead>\n",
              "  <tbody>\n",
              "    <tr>\n",
              "      <th>0</th>\n",
              "      <td>SC</td>\n",
              "      <td>2010</td>\n",
              "      <td>91</td>\n",
              "      <td>1</td>\n",
              "      <td>1</td>\n",
              "      <td>2</td>\n",
              "      <td>C61</td>\n",
              "    </tr>\n",
              "    <tr>\n",
              "      <th>1</th>\n",
              "      <td>SC</td>\n",
              "      <td>2010</td>\n",
              "      <td>80</td>\n",
              "      <td>1</td>\n",
              "      <td>1</td>\n",
              "      <td>2</td>\n",
              "      <td>I500</td>\n",
              "    </tr>\n",
              "    <tr>\n",
              "      <th>2</th>\n",
              "      <td>SC</td>\n",
              "      <td>2010</td>\n",
              "      <td>79</td>\n",
              "      <td>2</td>\n",
              "      <td>1</td>\n",
              "      <td>3</td>\n",
              "      <td>I500</td>\n",
              "    </tr>\n",
              "    <tr>\n",
              "      <th>3</th>\n",
              "      <td>SC</td>\n",
              "      <td>2010</td>\n",
              "      <td>63</td>\n",
              "      <td>1</td>\n",
              "      <td>1</td>\n",
              "      <td>2</td>\n",
              "      <td>C710</td>\n",
              "    </tr>\n",
              "    <tr>\n",
              "      <th>4</th>\n",
              "      <td>SC</td>\n",
              "      <td>2010</td>\n",
              "      <td>68</td>\n",
              "      <td>2</td>\n",
              "      <td>1</td>\n",
              "      <td>2</td>\n",
              "      <td>C349</td>\n",
              "    </tr>\n",
              "    <tr>\n",
              "      <th>...</th>\n",
              "      <td>...</td>\n",
              "      <td>...</td>\n",
              "      <td>...</td>\n",
              "      <td>...</td>\n",
              "      <td>...</td>\n",
              "      <td>...</td>\n",
              "      <td>...</td>\n",
              "    </tr>\n",
              "    <tr>\n",
              "      <th>311381</th>\n",
              "      <td>SC</td>\n",
              "      <td>2018</td>\n",
              "      <td>83</td>\n",
              "      <td>2</td>\n",
              "      <td>1</td>\n",
              "      <td>3</td>\n",
              "      <td>I429</td>\n",
              "    </tr>\n",
              "    <tr>\n",
              "      <th>311382</th>\n",
              "      <td>SC</td>\n",
              "      <td>2018</td>\n",
              "      <td>66</td>\n",
              "      <td>1</td>\n",
              "      <td>4</td>\n",
              "      <td>1</td>\n",
              "      <td>K769</td>\n",
              "    </tr>\n",
              "    <tr>\n",
              "      <th>311383</th>\n",
              "      <td>SC</td>\n",
              "      <td>2018</td>\n",
              "      <td>84</td>\n",
              "      <td>1</td>\n",
              "      <td>1</td>\n",
              "      <td>2</td>\n",
              "      <td>K921</td>\n",
              "    </tr>\n",
              "    <tr>\n",
              "      <th>311384</th>\n",
              "      <td>SC</td>\n",
              "      <td>2018</td>\n",
              "      <td>85</td>\n",
              "      <td>2</td>\n",
              "      <td>1</td>\n",
              "      <td>3</td>\n",
              "      <td>I219</td>\n",
              "    </tr>\n",
              "    <tr>\n",
              "      <th>311385</th>\n",
              "      <td>SC</td>\n",
              "      <td>2018</td>\n",
              "      <td>69</td>\n",
              "      <td>2</td>\n",
              "      <td>1</td>\n",
              "      <td>3</td>\n",
              "      <td>C189</td>\n",
              "    </tr>\n",
              "  </tbody>\n",
              "</table>\n",
              "<p>208531 rows × 7 columns</p>\n",
              "</div>\n",
              "      <button class=\"colab-df-convert\" onclick=\"convertToInteractive('df-40367fe6-7aca-4a14-95f4-2aa67be2d69f')\"\n",
              "              title=\"Convert this dataframe to an interactive table.\"\n",
              "              style=\"display:none;\">\n",
              "        \n",
              "  <svg xmlns=\"http://www.w3.org/2000/svg\" height=\"24px\"viewBox=\"0 0 24 24\"\n",
              "       width=\"24px\">\n",
              "    <path d=\"M0 0h24v24H0V0z\" fill=\"none\"/>\n",
              "    <path d=\"M18.56 5.44l.94 2.06.94-2.06 2.06-.94-2.06-.94-.94-2.06-.94 2.06-2.06.94zm-11 1L8.5 8.5l.94-2.06 2.06-.94-2.06-.94L8.5 2.5l-.94 2.06-2.06.94zm10 10l.94 2.06.94-2.06 2.06-.94-2.06-.94-.94-2.06-.94 2.06-2.06.94z\"/><path d=\"M17.41 7.96l-1.37-1.37c-.4-.4-.92-.59-1.43-.59-.52 0-1.04.2-1.43.59L10.3 9.45l-7.72 7.72c-.78.78-.78 2.05 0 2.83L4 21.41c.39.39.9.59 1.41.59.51 0 1.02-.2 1.41-.59l7.78-7.78 2.81-2.81c.8-.78.8-2.07 0-2.86zM5.41 20L4 18.59l7.72-7.72 1.47 1.35L5.41 20z\"/>\n",
              "  </svg>\n",
              "      </button>\n",
              "      \n",
              "  <style>\n",
              "    .colab-df-container {\n",
              "      display:flex;\n",
              "      flex-wrap:wrap;\n",
              "      gap: 12px;\n",
              "    }\n",
              "\n",
              "    .colab-df-convert {\n",
              "      background-color: #E8F0FE;\n",
              "      border: none;\n",
              "      border-radius: 50%;\n",
              "      cursor: pointer;\n",
              "      display: none;\n",
              "      fill: #1967D2;\n",
              "      height: 32px;\n",
              "      padding: 0 0 0 0;\n",
              "      width: 32px;\n",
              "    }\n",
              "\n",
              "    .colab-df-convert:hover {\n",
              "      background-color: #E2EBFA;\n",
              "      box-shadow: 0px 1px 2px rgba(60, 64, 67, 0.3), 0px 1px 3px 1px rgba(60, 64, 67, 0.15);\n",
              "      fill: #174EA6;\n",
              "    }\n",
              "\n",
              "    [theme=dark] .colab-df-convert {\n",
              "      background-color: #3B4455;\n",
              "      fill: #D2E3FC;\n",
              "    }\n",
              "\n",
              "    [theme=dark] .colab-df-convert:hover {\n",
              "      background-color: #434B5C;\n",
              "      box-shadow: 0px 1px 3px 1px rgba(0, 0, 0, 0.15);\n",
              "      filter: drop-shadow(0px 1px 2px rgba(0, 0, 0, 0.3));\n",
              "      fill: #FFFFFF;\n",
              "    }\n",
              "  </style>\n",
              "\n",
              "      <script>\n",
              "        const buttonEl =\n",
              "          document.querySelector('#df-40367fe6-7aca-4a14-95f4-2aa67be2d69f button.colab-df-convert');\n",
              "        buttonEl.style.display =\n",
              "          google.colab.kernel.accessAllowed ? 'block' : 'none';\n",
              "\n",
              "        async function convertToInteractive(key) {\n",
              "          const element = document.querySelector('#df-40367fe6-7aca-4a14-95f4-2aa67be2d69f');\n",
              "          const dataTable =\n",
              "            await google.colab.kernel.invokeFunction('convertToInteractive',\n",
              "                                                     [key], {});\n",
              "          if (!dataTable) return;\n",
              "\n",
              "          const docLinkHtml = 'Like what you see? Visit the ' +\n",
              "            '<a target=\"_blank\" href=https://colab.research.google.com/notebooks/data_table.ipynb>data table notebook</a>'\n",
              "            + ' to learn more about interactive tables.';\n",
              "          element.innerHTML = '';\n",
              "          dataTable['output_type'] = 'display_data';\n",
              "          await google.colab.output.renderOutput(dataTable, element);\n",
              "          const docLink = document.createElement('div');\n",
              "          docLink.innerHTML = docLinkHtml;\n",
              "          element.appendChild(docLink);\n",
              "        }\n",
              "      </script>\n",
              "    </div>\n",
              "  </div>\n",
              "  "
            ]
          },
          "metadata": {},
          "execution_count": 69
        }
      ]
    },
    {
      "cell_type": "code",
      "source": [
        "Df_senex.to_csv(\"data_frame_pós_ETL.csv\") #salvando o banco de dados que será usado no colab de mineração"
      ],
      "metadata": {
        "id": "JU-P6VzxvKrk"
      },
      "execution_count": 71,
      "outputs": []
    },
    {
      "cell_type": "code",
      "source": [
        "Df_senex.info()"
      ],
      "metadata": {
        "colab": {
          "base_uri": "https://localhost:8080/"
        },
        "id": "QPHvQQ4Po2M6",
        "outputId": "ab625c79-591c-43d6-a8d8-b8956379c2ca"
      },
      "execution_count": 72,
      "outputs": [
        {
          "output_type": "stream",
          "name": "stdout",
          "text": [
            "<class 'pandas.core.frame.DataFrame'>\n",
            "Int64Index: 208531 entries, 0 to 311385\n",
            "Data columns (total 7 columns):\n",
            " #   Column    Non-Null Count   Dtype \n",
            "---  ------    --------------   ----- \n",
            " 0   ESTADO    208531 non-null  object\n",
            " 1   ANO       208531 non-null  int64 \n",
            " 2   IDADE     208531 non-null  int64 \n",
            " 3   SEXO      208531 non-null  int64 \n",
            " 4   RACACOR   208531 non-null  int64 \n",
            " 5   ESTCIV    208531 non-null  int64 \n",
            " 6   CAUSABAS  208531 non-null  object\n",
            "dtypes: int64(5), object(2)\n",
            "memory usage: 20.8+ MB\n"
          ]
        }
      ]
    },
    {
      "cell_type": "markdown",
      "source": [
        "# Considerações finais\n",
        "Com esse estudo preliminar foi possível atender as fases de:\n",
        "\n",
        "1 - Entendimento do negócio: tendo como base o conhecimento sobre a população-alvo;\n",
        "\n",
        "2 - Entendimento dos dados: adquiridos de base de dados segura e retratando a realidade fiel da população-alvo;\n",
        "\n",
        "3 - Preparação dos dados: atravéz de tarefas de ETL(extract, transform and load) e por esquema de validação com auxílio do módulo Pandera.\n",
        "\n",
        "<div align=\"center\"> \n",
        "\n",
        "![CRISP-DM (1).png](data:image/png;base64,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)"
      ],
      "metadata": {
        "id": "CAjvo2UPwaj4"
      }
    }
  ]
}